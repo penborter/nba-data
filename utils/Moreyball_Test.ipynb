{
 "cells": [
  {
   "cell_type": "code",
   "execution_count": 9,
   "metadata": {},
   "outputs": [],
   "source": [
    "import time\n",
    "import pandas as pd\n",
    "from nba_api.stats.endpoints import leaguedashplayershotlocations\n",
    "from functools import wraps"
   ]
  },
  {
   "cell_type": "code",
   "execution_count": 3,
   "metadata": {},
   "outputs": [],
   "source": [
    "# Retry Wrapper \n",
    "def retry(max_attempts=3, delay=30):\n",
    "  def decorator(func):\n",
    "    @wraps(func)\n",
    "    def wrapper(*args, **kwargs):\n",
    "      attempts = 0\n",
    "      while attempts < max_attempts:\n",
    "        try:\n",
    "          return func(*args, **kwargs)\n",
    "        except Exception as e:\n",
    "          print(f\"Attempt {attempts + 1} failed: {e}\")\n",
    "          attempts += 1\n",
    "          if attempts < max_attempts:\n",
    "              print(f\"Retrying in {delay} seconds...\")\n",
    "              time.sleep(delay)\n",
    "      raise Exception(f\"Function {func.__name__} failed after {max_attempts} attempts\")\n",
    "    return wrapper\n",
    "  return decorator"
   ]
  },
  {
   "cell_type": "code",
   "execution_count": 4,
   "metadata": {},
   "outputs": [],
   "source": [
    "from nba_api.stats.library.http import NBAStatsHTTP\n",
    "import logging\n",
    "\n",
    "logging.basicConfig(level=logging.DEBUG)\n",
    "logger = logging.getLogger(__name__)\n",
    "\n",
    "class LoggedNBAStatsHTTP(NBAStatsHTTP):\n",
    "    def send_api_request(self, endpoint, parameters, referer=None, proxy=None, headers=None, timeout=(20,60), raise_exception_on_error=False):\n",
    "        logger.debug(f\"Starting API request to {endpoint}\")\n",
    "        try:\n",
    "            response = super().send_api_request(endpoint, parameters, referer, proxy, headers, timeout, raise_exception_on_error)\n",
    "            logger.debug(\"Request completed successfully\")\n",
    "            logger.debug(\"Starting to process response\")\n",
    "            # Add any response info we can safely access\n",
    "            return response\n",
    "        except Exception as e:\n",
    "            logger.error(f\"Request failed with error: {str(e)}\")\n",
    "            logger.error(f\"Error type: {type(e)}\")\n",
    "            raise\n",
    "\n",
    "leaguedashplayershotlocations.NBAStatsHTTP = LoggedNBAStatsHTTP"
   ]
  },
  {
   "cell_type": "code",
   "execution_count": 8,
   "metadata": {},
   "outputs": [],
   "source": [
    "import logging\n",
    "import time\n",
    "from nba_api.stats.library.http import NBAStatsHTTP\n",
    "import requests\n",
    "\n",
    "# Set up logging\n",
    "logging.basicConfig(level=logging.DEBUG)\n",
    "logger = logging.getLogger(__name__)\n",
    "\n",
    "class LoggedNBAStatsHTTP(NBAStatsHTTP):\n",
    "    def send_api_request(self, endpoint, parameters, referer=None, proxy=None, headers=None, timeout=60, raise_exception_on_error=False):\n",
    "        logger.debug(f\"API: Starting request to {endpoint}\")\n",
    "        logger.debug(f\"API: Request parameters: {parameters}\")\n",
    "        \n",
    "        start_time = time.time()\n",
    "        \n",
    "        try:\n",
    "            # Get the full URL that would be used\n",
    "            url = self.base_url + endpoint\n",
    "            logger.debug(f\"API: Full URL: {url}\")\n",
    "            \n",
    "            # Create session with same settings\n",
    "            session = requests.Session()\n",
    "            if headers:\n",
    "                session.headers.update(headers)\n",
    "            \n",
    "            # Make request with progress logging\n",
    "            logger.debug(\"API: Initiating connection\")\n",
    "            response = session.get(url, params=parameters, timeout=timeout)\n",
    "            logger.debug(f\"API: Connected, status code: {response.status_code}\")\n",
    "            \n",
    "            # Try to get content length\n",
    "            content_length = response.headers.get('content-length')\n",
    "            if content_length:\n",
    "                logger.debug(f\"API: Expected content length: {content_length} bytes\")\n",
    "            \n",
    "            # Get actual content\n",
    "            logger.debug(\"API: Starting to read content\")\n",
    "            content = response.content\n",
    "            logger.debug(f\"API: Received {len(content)} bytes\")\n",
    "            \n",
    "            elapsed = time.time() - start_time\n",
    "            logger.debug(f\"API: Request completed in {elapsed:.2f} seconds\")\n",
    "            \n",
    "            return response\n",
    "            \n",
    "        except Exception as e:\n",
    "            elapsed = time.time() - start_time\n",
    "            logger.error(f\"API: Request failed after {elapsed:.2f} seconds\")\n",
    "            logger.error(f\"API: Error type: {type(e)}\")\n",
    "            logger.error(f\"API: Error details: {str(e)}\")\n",
    "            raise\n",
    "\n",
    "leaguedashplayershotlocations.NBAStatsHTTP = LoggedNBAStatsHTTP"
   ]
  },
  {
   "cell_type": "code",
   "execution_count": 4,
   "metadata": {},
   "outputs": [
    {
     "data": {
      "text/plain": [
       "{'id': 1610612739,\n",
       " 'full_name': 'Cleveland Cavaliers',\n",
       " 'abbreviation': 'CLE',\n",
       " 'nickname': 'Cavaliers',\n",
       " 'city': 'Cleveland',\n",
       " 'state': 'Ohio',\n",
       " 'year_founded': 1970}"
      ]
     },
     "execution_count": 4,
     "metadata": {},
     "output_type": "execute_result"
    }
   ],
   "source": [
    "from nba_api.stats.static.teams import _find_team_by_abbreviation\n",
    "\n",
    "_find_team_by_abbreviation(\"CLE\")"
   ]
  },
  {
   "cell_type": "code",
   "execution_count": 5,
   "metadata": {},
   "outputs": [],
   "source": [
    "def get_shooting_data():\n",
    "  data = leaguedashplayershotlocations.LeagueDashPlayerShotLocations(timeout=(20,60))\n",
    "  return data.shot_locations.get_data_frame()\n",
    "\n",
    "def process_shooting_data(shootingDF):\n",
    "  for fg in ['FGM', 'FGA']:\n",
    "    shootingDF.loc[:, ('Total Shots', fg)] = shootingDF.xs(fg, level=1, axis=1).sum(axis=1) - shootingDF['Corner 3'][fg]\n",
    "    shootingDF.loc[:, ('Total from 3', fg)] = shootingDF[['Above the Break 3', 'Corner 3', 'Backcourt']].xs(fg, level=1, axis=1).sum(axis=1)\n",
    "    shootingDF.loc[:, ('Pct RA', fg)] = round(shootingDF['Restricted Area'][fg] / shootingDF['Total Shots'][fg], 3)\n",
    "    shootingDF.loc[:, ('Pct 3', fg)] = round(shootingDF['Total from 3'][fg] / shootingDF['Total Shots'][fg], 3)\n",
    "    shootingDF.loc[:, ('Pct Moreyball', fg)] = round(shootingDF['Pct RA'][fg] + shootingDF['Pct 3'][fg], 3)\n",
    "\n",
    "  shootingDF = shootingDF[shootingDF['Total Shots']['FGA'] > 20].sort_values(by=('Pct Moreyball', 'FGA'), ascending=False)\n",
    "  shootingDF.columns = [col[1] if col[0] == \"\" else '_'.join(col) for col in shootingDF.columns.values]\n",
    "\n",
    "  return shootingDF\n",
    "\n",
    "def save_to_csv(df, filename=\"Moreyball_Ranking_Test.csv\"):\n",
    "  df.to_csv(filename, index=False)"
   ]
  },
  {
   "cell_type": "code",
   "execution_count": 12,
   "metadata": {},
   "outputs": [],
   "source": [
    "def main():\n",
    "  try:\n",
    "    shooting_df = get_shooting_data()\n",
    "    #processed_df = process_shooting_data(shooting_df)\n",
    "    return shooting_df\n",
    "  except Exception as e:\n",
    "    print(f\"An error occurred: {e}\")"
   ]
  },
  {
   "cell_type": "code",
   "execution_count": 15,
   "metadata": {},
   "outputs": [
    {
     "name": "stderr",
     "output_type": "stream",
     "text": [
      "DEBUG:__main__:Starting API request to leaguedashplayershotlocations\n",
      "DEBUG:urllib3.connectionpool:Starting new HTTPS connection (1): stats.nba.com:443\n",
      "DEBUG:urllib3.connectionpool:https://stats.nba.com:443 \"GET /stats/leaguedashplayershotlocations?College=&Conference=&Country=&DateFrom=&DateTo=&DistanceRange=By+Zone&Division=&DraftPick=&DraftYear=&GameScope=&GameSegment=&Height=&LastNGames=0&LeagueID=&Location=&MeasureType=Base&Month=0&OpponentTeamID=0&Outcome=&PORound=&PaceAdjust=N&PerMode=Totals&Period=0&PlayerExperience=&PlayerPosition=&PlusMinus=N&Rank=N&Season=2024-25&SeasonSegment=&SeasonType=Regular+Season&ShotClockRange=&StarterBench=&TeamID=&VsConference=&VsDivision=&Weight= HTTP/11\" 200 28288\n",
      "DEBUG:__main__:Request completed successfully\n",
      "DEBUG:__main__:Starting to process response\n"
     ]
    },
    {
     "ename": "ValueError",
     "evalue": "2 columns passed, passed data had 30 columns",
     "output_type": "error",
     "traceback": [
      "\u001b[0;31m---------------------------------------------------------------------------\u001b[0m",
      "\u001b[0;31mAssertionError\u001b[0m                            Traceback (most recent call last)",
      "File \u001b[0;32m~/opt/miniconda3/lib/python3.8/site-packages/pandas/core/internals/construction.py:934\u001b[0m, in \u001b[0;36m_finalize_columns_and_data\u001b[0;34m(content, columns, dtype)\u001b[0m\n\u001b[1;32m    933\u001b[0m \u001b[38;5;28;01mtry\u001b[39;00m:\n\u001b[0;32m--> 934\u001b[0m     columns \u001b[38;5;241m=\u001b[39m \u001b[43m_validate_or_indexify_columns\u001b[49m\u001b[43m(\u001b[49m\u001b[43mcontents\u001b[49m\u001b[43m,\u001b[49m\u001b[43m \u001b[49m\u001b[43mcolumns\u001b[49m\u001b[43m)\u001b[49m\n\u001b[1;32m    935\u001b[0m \u001b[38;5;28;01mexcept\u001b[39;00m \u001b[38;5;167;01mAssertionError\u001b[39;00m \u001b[38;5;28;01mas\u001b[39;00m err:\n\u001b[1;32m    936\u001b[0m     \u001b[38;5;66;03m# GH#26429 do not raise user-facing AssertionError\u001b[39;00m\n",
      "File \u001b[0;32m~/opt/miniconda3/lib/python3.8/site-packages/pandas/core/internals/construction.py:981\u001b[0m, in \u001b[0;36m_validate_or_indexify_columns\u001b[0;34m(content, columns)\u001b[0m\n\u001b[1;32m    979\u001b[0m \u001b[38;5;28;01mif\u001b[39;00m \u001b[38;5;129;01mnot\u001b[39;00m is_mi_list \u001b[38;5;129;01mand\u001b[39;00m \u001b[38;5;28mlen\u001b[39m(columns) \u001b[38;5;241m!=\u001b[39m \u001b[38;5;28mlen\u001b[39m(content):  \u001b[38;5;66;03m# pragma: no cover\u001b[39;00m\n\u001b[1;32m    980\u001b[0m     \u001b[38;5;66;03m# caller's responsibility to check for this...\u001b[39;00m\n\u001b[0;32m--> 981\u001b[0m     \u001b[38;5;28;01mraise\u001b[39;00m \u001b[38;5;167;01mAssertionError\u001b[39;00m(\n\u001b[1;32m    982\u001b[0m         \u001b[38;5;124mf\u001b[39m\u001b[38;5;124m\"\u001b[39m\u001b[38;5;132;01m{\u001b[39;00m\u001b[38;5;28mlen\u001b[39m(columns)\u001b[38;5;132;01m}\u001b[39;00m\u001b[38;5;124m columns passed, passed data had \u001b[39m\u001b[38;5;124m\"\u001b[39m\n\u001b[1;32m    983\u001b[0m         \u001b[38;5;124mf\u001b[39m\u001b[38;5;124m\"\u001b[39m\u001b[38;5;132;01m{\u001b[39;00m\u001b[38;5;28mlen\u001b[39m(content)\u001b[38;5;132;01m}\u001b[39;00m\u001b[38;5;124m columns\u001b[39m\u001b[38;5;124m\"\u001b[39m\n\u001b[1;32m    984\u001b[0m     )\n\u001b[1;32m    985\u001b[0m \u001b[38;5;28;01mif\u001b[39;00m is_mi_list:\n\u001b[1;32m    986\u001b[0m     \u001b[38;5;66;03m# check if nested list column, length of each sub-list should be equal\u001b[39;00m\n",
      "\u001b[0;31mAssertionError\u001b[0m: 2 columns passed, passed data had 30 columns",
      "\nThe above exception was the direct cause of the following exception:\n",
      "\u001b[0;31mValueError\u001b[0m                                Traceback (most recent call last)",
      "Cell \u001b[0;32mIn[15], line 1\u001b[0m\n\u001b[0;32m----> 1\u001b[0m \u001b[43mget_shooting_data\u001b[49m\u001b[43m(\u001b[49m\u001b[43m)\u001b[49m\n",
      "Cell \u001b[0;32mIn[5], line 3\u001b[0m, in \u001b[0;36mget_shooting_data\u001b[0;34m()\u001b[0m\n\u001b[1;32m      1\u001b[0m \u001b[38;5;28;01mdef\u001b[39;00m \u001b[38;5;21mget_shooting_data\u001b[39m():\n\u001b[1;32m      2\u001b[0m   data \u001b[38;5;241m=\u001b[39m leaguedashplayershotlocations\u001b[38;5;241m.\u001b[39mLeagueDashPlayerShotLocations(timeout\u001b[38;5;241m=\u001b[39m(\u001b[38;5;241m20\u001b[39m,\u001b[38;5;241m60\u001b[39m))\n\u001b[0;32m----> 3\u001b[0m   \u001b[38;5;28;01mreturn\u001b[39;00m \u001b[43mdata\u001b[49m\u001b[38;5;241;43m.\u001b[39;49m\u001b[43mshot_locations\u001b[49m\u001b[38;5;241;43m.\u001b[39;49m\u001b[43mget_data_frame\u001b[49m\u001b[43m(\u001b[49m\u001b[43m)\u001b[49m\n",
      "File \u001b[0;32m~/opt/miniconda3/lib/python3.8/site-packages/nba_api/stats/endpoints/_base.py:28\u001b[0m, in \u001b[0;36mEndpoint.DataSet.get_data_frame\u001b[0;34m(self)\u001b[0m\n\u001b[1;32m     26\u001b[0m \u001b[38;5;28;01mif\u001b[39;00m \u001b[38;5;129;01mnot\u001b[39;00m PANDAS:\n\u001b[1;32m     27\u001b[0m     \u001b[38;5;28;01mraise\u001b[39;00m \u001b[38;5;167;01mException\u001b[39;00m(\u001b[38;5;124m'\u001b[39m\u001b[38;5;124mImport Missing - Failed to import DataFrame from pandas.\u001b[39m\u001b[38;5;124m'\u001b[39m)\n\u001b[0;32m---> 28\u001b[0m \u001b[38;5;28;01mreturn\u001b[39;00m \u001b[43mDataFrame\u001b[49m\u001b[43m(\u001b[49m\u001b[38;5;28;43mself\u001b[39;49m\u001b[38;5;241;43m.\u001b[39;49m\u001b[43mdata\u001b[49m\u001b[43m[\u001b[49m\u001b[38;5;124;43m'\u001b[39;49m\u001b[38;5;124;43mdata\u001b[39;49m\u001b[38;5;124;43m'\u001b[39;49m\u001b[43m]\u001b[49m\u001b[43m,\u001b[49m\u001b[43m \u001b[49m\u001b[43mcolumns\u001b[49m\u001b[38;5;241;43m=\u001b[39;49m\u001b[38;5;28;43mself\u001b[39;49m\u001b[38;5;241;43m.\u001b[39;49m\u001b[43mdata\u001b[49m\u001b[43m[\u001b[49m\u001b[38;5;124;43m'\u001b[39;49m\u001b[38;5;124;43mheaders\u001b[39;49m\u001b[38;5;124;43m'\u001b[39;49m\u001b[43m]\u001b[49m\u001b[43m)\u001b[49m\n",
      "File \u001b[0;32m~/opt/miniconda3/lib/python3.8/site-packages/pandas/core/frame.py:782\u001b[0m, in \u001b[0;36mDataFrame.__init__\u001b[0;34m(self, data, index, columns, dtype, copy)\u001b[0m\n\u001b[1;32m    780\u001b[0m     \u001b[38;5;28;01mif\u001b[39;00m columns \u001b[38;5;129;01mis\u001b[39;00m \u001b[38;5;129;01mnot\u001b[39;00m \u001b[38;5;28;01mNone\u001b[39;00m:\n\u001b[1;32m    781\u001b[0m         columns \u001b[38;5;241m=\u001b[39m ensure_index(columns)\n\u001b[0;32m--> 782\u001b[0m     arrays, columns, index \u001b[38;5;241m=\u001b[39m \u001b[43mnested_data_to_arrays\u001b[49m\u001b[43m(\u001b[49m\n\u001b[1;32m    783\u001b[0m \u001b[43m        \u001b[49m\u001b[38;5;66;43;03m# error: Argument 3 to \"nested_data_to_arrays\" has incompatible\u001b[39;49;00m\n\u001b[1;32m    784\u001b[0m \u001b[43m        \u001b[49m\u001b[38;5;66;43;03m# type \"Optional[Collection[Any]]\"; expected \"Optional[Index]\"\u001b[39;49;00m\n\u001b[1;32m    785\u001b[0m \u001b[43m        \u001b[49m\u001b[43mdata\u001b[49m\u001b[43m,\u001b[49m\n\u001b[1;32m    786\u001b[0m \u001b[43m        \u001b[49m\u001b[43mcolumns\u001b[49m\u001b[43m,\u001b[49m\n\u001b[1;32m    787\u001b[0m \u001b[43m        \u001b[49m\u001b[43mindex\u001b[49m\u001b[43m,\u001b[49m\u001b[43m  \u001b[49m\u001b[38;5;66;43;03m# type: ignore[arg-type]\u001b[39;49;00m\n\u001b[1;32m    788\u001b[0m \u001b[43m        \u001b[49m\u001b[43mdtype\u001b[49m\u001b[43m,\u001b[49m\n\u001b[1;32m    789\u001b[0m \u001b[43m    \u001b[49m\u001b[43m)\u001b[49m\n\u001b[1;32m    790\u001b[0m     mgr \u001b[38;5;241m=\u001b[39m arrays_to_mgr(\n\u001b[1;32m    791\u001b[0m         arrays,\n\u001b[1;32m    792\u001b[0m         columns,\n\u001b[0;32m   (...)\u001b[0m\n\u001b[1;32m    795\u001b[0m         typ\u001b[38;5;241m=\u001b[39mmanager,\n\u001b[1;32m    796\u001b[0m     )\n\u001b[1;32m    797\u001b[0m \u001b[38;5;28;01melse\u001b[39;00m:\n",
      "File \u001b[0;32m~/opt/miniconda3/lib/python3.8/site-packages/pandas/core/internals/construction.py:498\u001b[0m, in \u001b[0;36mnested_data_to_arrays\u001b[0;34m(data, columns, index, dtype)\u001b[0m\n\u001b[1;32m    495\u001b[0m \u001b[38;5;28;01mif\u001b[39;00m is_named_tuple(data[\u001b[38;5;241m0\u001b[39m]) \u001b[38;5;129;01mand\u001b[39;00m columns \u001b[38;5;129;01mis\u001b[39;00m \u001b[38;5;28;01mNone\u001b[39;00m:\n\u001b[1;32m    496\u001b[0m     columns \u001b[38;5;241m=\u001b[39m ensure_index(data[\u001b[38;5;241m0\u001b[39m]\u001b[38;5;241m.\u001b[39m_fields)\n\u001b[0;32m--> 498\u001b[0m arrays, columns \u001b[38;5;241m=\u001b[39m \u001b[43mto_arrays\u001b[49m\u001b[43m(\u001b[49m\u001b[43mdata\u001b[49m\u001b[43m,\u001b[49m\u001b[43m \u001b[49m\u001b[43mcolumns\u001b[49m\u001b[43m,\u001b[49m\u001b[43m \u001b[49m\u001b[43mdtype\u001b[49m\u001b[38;5;241;43m=\u001b[39;49m\u001b[43mdtype\u001b[49m\u001b[43m)\u001b[49m\n\u001b[1;32m    499\u001b[0m columns \u001b[38;5;241m=\u001b[39m ensure_index(columns)\n\u001b[1;32m    501\u001b[0m \u001b[38;5;28;01mif\u001b[39;00m index \u001b[38;5;129;01mis\u001b[39;00m \u001b[38;5;28;01mNone\u001b[39;00m:\n",
      "File \u001b[0;32m~/opt/miniconda3/lib/python3.8/site-packages/pandas/core/internals/construction.py:840\u001b[0m, in \u001b[0;36mto_arrays\u001b[0;34m(data, columns, dtype)\u001b[0m\n\u001b[1;32m    837\u001b[0m     data \u001b[38;5;241m=\u001b[39m [\u001b[38;5;28mtuple\u001b[39m(x) \u001b[38;5;28;01mfor\u001b[39;00m x \u001b[38;5;129;01min\u001b[39;00m data]\n\u001b[1;32m    838\u001b[0m     arr \u001b[38;5;241m=\u001b[39m _list_to_arrays(data)\n\u001b[0;32m--> 840\u001b[0m content, columns \u001b[38;5;241m=\u001b[39m \u001b[43m_finalize_columns_and_data\u001b[49m\u001b[43m(\u001b[49m\u001b[43marr\u001b[49m\u001b[43m,\u001b[49m\u001b[43m \u001b[49m\u001b[43mcolumns\u001b[49m\u001b[43m,\u001b[49m\u001b[43m \u001b[49m\u001b[43mdtype\u001b[49m\u001b[43m)\u001b[49m\n\u001b[1;32m    841\u001b[0m \u001b[38;5;28;01mreturn\u001b[39;00m content, columns\n",
      "File \u001b[0;32m~/opt/miniconda3/lib/python3.8/site-packages/pandas/core/internals/construction.py:937\u001b[0m, in \u001b[0;36m_finalize_columns_and_data\u001b[0;34m(content, columns, dtype)\u001b[0m\n\u001b[1;32m    934\u001b[0m     columns \u001b[38;5;241m=\u001b[39m _validate_or_indexify_columns(contents, columns)\n\u001b[1;32m    935\u001b[0m \u001b[38;5;28;01mexcept\u001b[39;00m \u001b[38;5;167;01mAssertionError\u001b[39;00m \u001b[38;5;28;01mas\u001b[39;00m err:\n\u001b[1;32m    936\u001b[0m     \u001b[38;5;66;03m# GH#26429 do not raise user-facing AssertionError\u001b[39;00m\n\u001b[0;32m--> 937\u001b[0m     \u001b[38;5;28;01mraise\u001b[39;00m \u001b[38;5;167;01mValueError\u001b[39;00m(err) \u001b[38;5;28;01mfrom\u001b[39;00m \u001b[38;5;21;01merr\u001b[39;00m\n\u001b[1;32m    939\u001b[0m \u001b[38;5;28;01mif\u001b[39;00m \u001b[38;5;28mlen\u001b[39m(contents) \u001b[38;5;129;01mand\u001b[39;00m contents[\u001b[38;5;241m0\u001b[39m]\u001b[38;5;241m.\u001b[39mdtype \u001b[38;5;241m==\u001b[39m np\u001b[38;5;241m.\u001b[39mobject_:\n\u001b[1;32m    940\u001b[0m     contents \u001b[38;5;241m=\u001b[39m convert_object_array(contents, dtype\u001b[38;5;241m=\u001b[39mdtype)\n",
      "\u001b[0;31mValueError\u001b[0m: 2 columns passed, passed data had 30 columns"
     ]
    }
   ],
   "source": [
    "get_shooting_data()"
   ]
  },
  {
   "cell_type": "code",
   "execution_count": 13,
   "metadata": {},
   "outputs": [
    {
     "name": "stderr",
     "output_type": "stream",
     "text": [
      "DEBUG:__main__:Starting API request to leaguedashplayershotlocations\n",
      "DEBUG:urllib3.connectionpool:Starting new HTTPS connection (1): stats.nba.com:443\n",
      "DEBUG:urllib3.connectionpool:https://stats.nba.com:443 \"GET /stats/leaguedashplayershotlocations?College=&Conference=&Country=&DateFrom=&DateTo=&DistanceRange=By+Zone&Division=&DraftPick=&DraftYear=&GameScope=&GameSegment=&Height=&LastNGames=0&LeagueID=&Location=&MeasureType=Base&Month=0&OpponentTeamID=0&Outcome=&PORound=&PaceAdjust=N&PerMode=Totals&Period=0&PlayerExperience=&PlayerPosition=&PlusMinus=N&Rank=N&Season=2024-25&SeasonSegment=&SeasonType=Regular+Season&ShotClockRange=&StarterBench=&TeamID=&VsConference=&VsDivision=&Weight= HTTP/11\" 200 28288\n",
      "DEBUG:__main__:Request completed successfully\n",
      "DEBUG:__main__:Starting to process response\n"
     ]
    },
    {
     "name": "stdout",
     "output_type": "stream",
     "text": [
      "An error occurred: 2 columns passed, passed data had 30 columns\n"
     ]
    }
   ],
   "source": [
    "shooting_df = main()\n",
    "#save_to_csv(processed_df)"
   ]
  },
  {
   "cell_type": "code",
   "execution_count": 14,
   "metadata": {},
   "outputs": [],
   "source": [
    "shooting_df"
   ]
  },
  {
   "cell_type": "code",
   "execution_count": 7,
   "metadata": {},
   "outputs": [
    {
     "name": "stdout",
     "output_type": "stream",
     "text": [
      "Collecting pyyaml\n",
      "  Downloading PyYAML-6.0.2-cp38-cp38-macosx_10_9_x86_64.whl (183 kB)\n",
      "\u001b[2K     \u001b[90m━━━━━━━━━━━━━━━━━━━━━━━━━━━━━━━━━━━━━━━\u001b[0m \u001b[32m183.2/183.2 kB\u001b[0m \u001b[31m5.7 MB/s\u001b[0m eta \u001b[36m0:00:00\u001b[0m\n",
      "\u001b[?25hInstalling collected packages: pyyaml\n",
      "Successfully installed pyyaml-6.0.2\n",
      "Note: you may need to restart the kernel to use updated packages.\n"
     ]
    }
   ],
   "source": [
    "pip install pyyaml"
   ]
  },
  {
   "cell_type": "code",
   "execution_count": 25,
   "metadata": {},
   "outputs": [],
   "source": [
    "import yaml"
   ]
  },
  {
   "cell_type": "code",
   "execution_count": 24,
   "metadata": {},
   "outputs": [],
   "source": [
    "processed_df = pd.read_csv('/Users/benporter/Documents/Github/nba-data/nba-data/data/dynamic/NBA_Leaders_MOREYBALL_Rate.csv')"
   ]
  },
  {
   "cell_type": "code",
   "execution_count": 27,
   "metadata": {},
   "outputs": [
    {
     "data": {
      "text/plain": [
       "Index(['PLAYER_ID', 'PLAYER_NAME', 'TEAM_ID', 'TEAM_ABBREVIATION', 'AGE',\n",
       "       'NICKNAME', 'Restricted Area_FGM', 'Restricted Area_FGA',\n",
       "       'Restricted Area_FG_PCT', 'In The Paint (Non-RA)_FGM',\n",
       "       'In The Paint (Non-RA)_FGA', 'In The Paint (Non-RA)_FG_PCT',\n",
       "       'Mid-Range_FGM', 'Mid-Range_FGA', 'Mid-Range_FG_PCT',\n",
       "       'Left Corner 3_FGM', 'Left Corner 3_FGA', 'Left Corner 3_FG_PCT',\n",
       "       'Right Corner 3_FGM', 'Right Corner 3_FGA', 'Right Corner 3_FG_PCT',\n",
       "       'Above the Break 3_FGM', 'Above the Break 3_FGA',\n",
       "       'Above the Break 3_FG_PCT', 'Backcourt_FGM', 'Backcourt_FGA',\n",
       "       'Backcourt_FG_PCT', 'Corner 3_FGM', 'Corner 3_FGA', 'Corner 3_FG_PCT',\n",
       "       'Total Shots_FGM', 'Total from 3_FGM', 'Pct RA_FGM', 'Pct 3_FGM',\n",
       "       'Pct Moreyball_FGM', 'Total Shots_FGA', 'Total from 3_FGA',\n",
       "       'Pct RA_FGA', 'Pct 3_FGA', 'Pct Moreyball_FGA'],\n",
       "      dtype='object')"
      ]
     },
     "execution_count": 27,
     "metadata": {},
     "output_type": "execute_result"
    }
   ],
   "source": [
    "processed_df.columns"
   ]
  },
  {
   "cell_type": "code",
   "execution_count": 30,
   "metadata": {},
   "outputs": [],
   "source": [
    "mb_full_yaml_list =  [{\n",
    "  'id': str(processed_df.iloc[i].PLAYER_ID),\n",
    "  'name': str(processed_df.iloc[i].PLAYER_NAME),\n",
    "  'team': str(processed_df.iloc[i].TEAM_ABBREVIATION),\n",
    "  'RA_FGM': str(processed_df.iloc[i]['Restricted Area_FGM']),\n",
    "  'RA_FGA': str(processed_df.iloc[i]['Restricted Area_FGA']),\n",
    "  'RA_PCT': str(processed_df.iloc[i]['Pct RA_FGA']),\n",
    "  '3PT_FGM': str(processed_df.iloc[i]['Total from 3_FGM']),\n",
    "  '3PT_FGA': str(processed_df.iloc[i]['Total from 3_FGA']),\n",
    "  '3PT_PCT': str(processed_df.iloc[i]['Pct 3_FGA']),\n",
    "  'MB_FGM': str(processed_df.iloc[i]['Total from 3_FGM'] + processed_df.iloc[i]['Restricted Area_FGM']),\n",
    "  'MB_FGA': str(processed_df.iloc[i]['Total from 3_FGA'] + processed_df.iloc[i]['Restricted Area_FGA']),\n",
    "  'TOTAL_FGM': str(processed_df.iloc[i]['Total Shots_FGM']),\n",
    "  'TOTAL_FGA': str(processed_df.iloc[i]['Total Shots_FGA']),\n",
    "  'MB_PCT': str(processed_df.iloc[i]['Pct Moreyball_FGA'])\n",
    "  } \n",
    "  for i in range((len(processed_df) - 1))]\n",
    "\n",
    "with open('moreyball_full.yml', 'w') as stream:\n",
    "  yaml.dump(mb_full_yaml_list, stream)"
   ]
  },
  {
   "cell_type": "code",
   "execution_count": 26,
   "metadata": {},
   "outputs": [
    {
     "data": {
      "text/plain": [
       "374"
      ]
     },
     "execution_count": 26,
     "metadata": {},
     "output_type": "execute_result"
    }
   ],
   "source": [
    "len(processed_df)"
   ]
  },
  {
   "cell_type": "code",
   "execution_count": null,
   "metadata": {},
   "outputs": [],
   "source": []
  }
 ],
 "metadata": {
  "kernelspec": {
   "display_name": "base",
   "language": "python",
   "name": "python3"
  },
  "language_info": {
   "codemirror_mode": {
    "name": "ipython",
    "version": 3
   },
   "file_extension": ".py",
   "mimetype": "text/x-python",
   "name": "python",
   "nbconvert_exporter": "python",
   "pygments_lexer": "ipython3",
   "version": "3.8.16"
  }
 },
 "nbformat": 4,
 "nbformat_minor": 2
}
