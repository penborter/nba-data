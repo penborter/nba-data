{
 "cells": [
  {
   "attachments": {},
   "cell_type": "markdown",
   "id": "pressed-tuner",
   "metadata": {},
   "source": [
    "# NBA Play-by-Play Possessions"
   ]
  },
  {
   "attachments": {},
   "cell_type": "markdown",
   "id": "round-serum",
   "metadata": {},
   "source": [
    "For poor free throw shooters, is it a better strategy to *intentionally* miss the second free throw and aim for the offensive rebound and new possession? Analysis of play-by-play data using [nba_api](https://github.com/swar/nba_api).\n",
    "\n",
    "### TODO\n",
    "\n",
    "- [ ] Use consistent methods for creating new DF columns \n",
    "- [ ] Reduce use of list comprehensions for `pandas` / `numpy` methods"
   ]
  },
  {
   "cell_type": "markdown",
   "id": "skilled-equilibrium",
   "metadata": {},
   "source": [
    "## 1. Setup and get play-by-play DataFrame"
   ]
  },
  {
   "cell_type": "code",
   "execution_count": null,
   "id": "suspected-nigeria",
   "metadata": {},
   "outputs": [],
   "source": [
    "import numpy as np\n",
    "import pandas as pd\n",
    "import urllib\n",
    "import requests\n",
    "\n",
    "from nba_api.stats.endpoints import playbyplayv2"
   ]
  },
  {
   "cell_type": "code",
   "execution_count": null,
   "id": "deadly-rebecca",
   "metadata": {},
   "outputs": [],
   "source": [
    "#Get a list of team IDs\n",
    "from nba_api.stats.static import teams\n",
    "nba_teams = teams.get_teams()\n",
    "\n",
    "# Select the dictionary for the Pacers, which contains their team ID\n",
    "team_ids = [team['id'] for team in nba_teams]\n",
    "\n",
    "# Query for the regular season games of the Cavs (team no. 3 alphabetically)\n",
    "from nba_api.stats.endpoints import leaguegamefinder\n",
    "from nba_api.stats.library.parameters import Season\n",
    "from nba_api.stats.library.parameters import SeasonType\n",
    "\n",
    "gamefinder = leaguegamefinder.LeagueGameFinder(team_id_nullable=team_ids[2], \n",
    "                            season_nullable=Season.default,\n",
    "                            season_type_nullable=SeasonType.regular)  \n",
    "\n",
    "games_dict = gamefinder.get_normalized_dict()\n",
    "games = games_dict['LeagueGameFinderResults']\n",
    "game_IDs = [game['GAME_ID'] for game in games]"
   ]
  },
  {
   "cell_type": "code",
   "execution_count": null,
   "id": "intense-netscape",
   "metadata": {},
   "outputs": [],
   "source": [
    "# Query for the play by play of that most recent regular season game\n",
    "from nba_api.stats.endpoints import playbyplayv2\n",
    "df = playbyplayv2.PlayByPlayV2(game_IDs[0]).get_data_frames()[0]"
   ]
  },
  {
   "cell_type": "markdown",
   "id": "processed-weather",
   "metadata": {},
   "source": [
    "## 2. DataFrame Formatting"
   ]
  },
  {
   "cell_type": "code",
   "execution_count": null,
   "id": "heated-treat",
   "metadata": {},
   "outputs": [],
   "source": [
    "#Convert the game clock time to seconds and re-order\n",
    "def pbpNewRows1(df):\n",
    "  df['PCTIME_SECONDS'] = df['PCTIMESTRING'].map(lambda x: int(x.split(\":\")[0])*60 + int(x.split(\":\")[1]))\n",
    "  df = df.sort_values(['PERIOD','PCTIME_SECONDS','EVENTNUM'], ascending=[True,False,True])\n",
    "  df = df.reset_index(drop=True)\n",
    "\n",
    "  #Update the SCORE column to fill in blanks\n",
    "  df.at[0,\"SCORE\"] = \"0 - 0\"\n",
    "  df[\"SCORE\"] = df[\"SCORE\"].fillna(method=\"ffill\")\n",
    "\n",
    "  #New columns for possession formulae\n",
    "  df['EVENTMSGTYPE_1'] = df['EVENTMSGTYPE'].shift(-1)\n",
    "  df['EVENTMSGACTIONTYPE_1'] = df['EVENTMSGACTIONTYPE'].shift(-1)\n",
    "  df['PCTIME_SECONDS_1'] = df['PCTIME_SECONDS'].shift(-1)\n",
    "  df['PLAYER1_TEAM_ID_1'] = df['PLAYER1_TEAM_ID'].shift(-1)\n",
    "  df['SCORE_1'] = df['SCORE'].shift(1)\n",
    "  df.at[0,'SCORE_1'] = \"0 - 0\"\n",
    "\n",
    "  return df"
   ]
  },
  {
   "attachments": {},
   "cell_type": "markdown",
   "id": "83da9f75",
   "metadata": {},
   "source": [
    "## 3. Extracting Further Info"
   ]
  },
  {
   "attachments": {},
   "cell_type": "markdown",
   "id": "611a2748",
   "metadata": {},
   "source": [
    "There are four main ways a possession can end:\n",
    "1. Made FG / FT\n",
    "2. Missed FG / FT followed by a defensive rebound\n",
    "3. Turnover\n",
    "4. Quarter end\n",
    "\n",
    "We need a formula for each of the outcomes to check if and when each possession ends."
   ]
  },
  {
   "cell_type": "code",
   "execution_count": null,
   "id": "tested-timber",
   "metadata": {},
   "outputs": [],
   "source": [
    "def possEndFG(loc, df):\n",
    "    # Check if it's a shooting foul: the next play is a foul with the same time code\n",
    "    if (df.iloc[loc]['EVENTMSGTYPE_1'] == 6) and (df.iloc[loc]['PCTIME_SECONDS'] == df.iloc[loc]['PCTIME_SECONDS_1']):\n",
    "        return False\n",
    "    else:\n",
    "        return True\n",
    "    \n",
    "def possEndRebound(loc, df):\n",
    "    # Check for offensive rebound: the next play (i.e. the rebound after a miss) is by the same team\n",
    "    if df.iloc[loc]['PLAYER1_TEAM_ID'] == df.iloc[loc]['PLAYER1_TEAM_ID_1']:\n",
    "        return False\n",
    "    else:\n",
    "        return True\n",
    "\n",
    "def possEndFT(loc, df):\n",
    "    # Check for last FT (10 is 1st of 1; 12 is 2nd of 2; 15 is 3rd of 3) \n",
    "    if df.iloc[loc]['EVENTMSGACTIONTYPE'] in [10,12,15]:\n",
    "        if (df.iloc[loc]['EVENTMSGTYPE_1'] == 4):\n",
    "            return possEndRebound(loc, df)\n",
    "        else:\n",
    "            return True\n",
    "    else:\n",
    "        return False\n",
    "\n",
    "# The keys in this dict correspond to relevant EVENTMSGTYPE (1 - FG make, 2 - FG miss, 3 - FT attempt)\n",
    "possOutcomesDict = {\n",
    "    '1': possEndFG,\n",
    "    '2': possEndRebound,\n",
    "    '3': possEndFT\n",
    "}\n",
    "\n",
    "\n",
    "def possEndCheck(loc, df):    \n",
    "    if df.iloc[loc]['EVENTMSGTYPE'] in [1,2,3]:\n",
    "        #print(f\"running {possOutcomesDict[str(df.iloc[loc]['EVENTMSGTYPE'])]}\")\n",
    "        return possOutcomesDict[str(df.iloc[loc]['EVENTMSGTYPE'])](loc, df)\n",
    "    elif df.iloc[loc]['EVENTMSGTYPE'] in [5,13]:\n",
    "        return True\n",
    "    else:\n",
    "        return False"
   ]
  },
  {
   "attachments": {},
   "cell_type": "markdown",
   "id": "a15d83d1",
   "metadata": {},
   "source": [
    "With these formulae we can run through the plays in the game and determine on which of them a possession ended, and who was in possesion for each play.\n",
    "We can also calculate the change in score for each play, to use in analysing points per possession later on."
   ]
  },
  {
   "cell_type": "code",
   "execution_count": null,
   "id": "c3f5a805",
   "metadata": {},
   "outputs": [],
   "source": [
    "def pbpNewRows2(df):\n",
    "\n",
    "    # Add new column for possession end True / False\n",
    "    df['POSSESSION_END'] = [possEndCheck(loc, df) for loc in range(len(df))]\n",
    "\n",
    "    # Gets team that wins the tip - index 0 is the start of game play \n",
    "    # Index 1 is the jump ball row and Player 3 is who it gets tipped to\n",
    "    currentTeam = [df.iloc[1][\"PLAYER3_TEAM_ABBREVIATION\"]][0]\n",
    "\n",
    "    # Get the abbreviations of the two teams \n",
    "    teamNames = list(filter(lambda x: x is not None, df[\"PLAYER1_TEAM_ABBREVIATION\"].unique().tolist()))\n",
    "\n",
    "    # Initialising variables for the loop\n",
    "    switch = True\n",
    "    teamInPoss = []\n",
    "\n",
    "    for idx, loc in enumerate(range(len(df))):\n",
    "        \n",
    "        teamInPoss.append(currentTeam)\n",
    "\n",
    "        # If POSSESSION_END == True, switch the team in possession for the next play\n",
    "        if df.iloc[loc][\"POSSESSION_END\"]:\n",
    "            currentTeam = teamNames[int(not switch)]\n",
    "            switch = not switch\n",
    "\n",
    "    df[\"POSSESSION_TEAM_ABBREVIATION\"] = teamInPoss\n",
    "\n",
    "    # Calculates the change in score between two plays - they don't have to be sequential\n",
    "    def eventScore(before,after):\n",
    "\n",
    "        start_score = str(before).split(\" - \")\n",
    "        end_score = str(after).split(\" - \")\n",
    "\n",
    "        diff_score = [int(x)-int(y) for x, y in zip(end_score, start_score)]\n",
    "\n",
    "        return max(diff_score)\n",
    "\n",
    "    df['SCORE_CHANGE'] = df.apply(lambda row: eventScore(row['SCORE_1'],row['SCORE']), axis=1)\n",
    "\n",
    "    return df"
   ]
  },
  {
   "cell_type": "code",
   "execution_count": null,
   "id": "b65658fc",
   "metadata": {},
   "outputs": [],
   "source": [
    "df.head()"
   ]
  },
  {
   "attachments": {},
   "cell_type": "markdown",
   "id": "077aa545",
   "metadata": {},
   "source": [
    "### Points Per Possession\n",
    "\n",
    "As an example, using the new columns we've added to the pbp data, we can calculate the average points per possession on OKC offensive rebounds.\n",
    "\n",
    "I'm sure I can update this example to use more `pandas` or `numpy` tools instead of the excessive list comprehensions I've used instead."
   ]
  },
  {
   "cell_type": "code",
   "execution_count": null,
   "id": "8720b1b9",
   "metadata": {},
   "outputs": [],
   "source": [
    "def pointsPerPossession(team, df):\n",
    "  # Get a list of missed shots\n",
    "  missedShots = df.index[df['EVENTMSGTYPE'] == 2].tolist()\n",
    "\n",
    "  # For each missed shot, add if the following play is a rebound with the same team abbreviation\n",
    "  ORB = [shot + 1 for shot in missedShots if df.loc[shot]['PLAYER1_TEAM_ABBREVIATION'] == team and \n",
    "                                                df.loc[shot+1]['PLAYER1_TEAM_ABBREVIATION'] == team and \n",
    "                                                df.loc[shot+1]['EVENTMSGTYPE'] == 4]\n",
    "\n",
    "  # Get a list of the plays where possession changed\n",
    "  possessionChanges = df[df['POSSESSION_END'] == True].index.tolist()\n",
    "  possessionChanges = np.array(possessionChanges)\n",
    "\n",
    "  # For each rebound, find the next change of possession and return the pair of start / end indices\n",
    "  ORB_poss = [[reb, possessionChanges[possessionChanges > reb].min()+1] for reb in ORB]\n",
    "\n",
    "  # Find the total of the points for each possession after a ORB\n",
    "  points = sum([df.iloc[reb[0]:reb[1]]['SCORE_CHANGE'].sum() for reb in ORB_poss])\n",
    "  num_poss = len(ORB)\n",
    "  \n",
    "  return [points / num_poss, num_poss]\n",
    "\n",
    "# Points per possession is the total number of points divided by the number of possessions\n",
    "team = \"OKC\"\n",
    "\n",
    "ORB = pointsPerPossession(team, df)\n",
    "print(f'Points Per Possession ({team}): {ORB[0]: .2f} (on {ORB[1]} possessions)') "
   ]
  },
  {
   "attachments": {},
   "cell_type": "markdown",
   "id": "855f0895",
   "metadata": {},
   "source": [
    "## Getting all play-By-play data for a season"
   ]
  },
  {
   "cell_type": "code",
   "execution_count": null,
   "id": "b43c70f1",
   "metadata": {},
   "outputs": [],
   "source": [
    "from nba_api.stats.endpoints import leaguegamefinder\n",
    "from nba_api.stats.library.parameters import Season\n",
    "from nba_api.stats.library.parameters import SeasonType\n",
    "\n",
    "gamefinder = leaguegamefinder.LeagueGameFinder(season_nullable=Season.default, season_type_nullable=SeasonType.regular) "
   ]
  },
  {
   "cell_type": "code",
   "execution_count": null,
   "id": "ba7b4a70",
   "metadata": {},
   "outputs": [],
   "source": [
    "games_dict = gamefinder.get_normalized_dict()\n",
    "games = games_dict['LeagueGameFinderResults']\n",
    "game_IDs = [game['GAME_ID'] for game in games]"
   ]
  },
  {
   "cell_type": "code",
   "execution_count": null,
   "id": "456fb584",
   "metadata": {},
   "outputs": [],
   "source": [
    "game_IDs = list(set(game_IDs))"
   ]
  },
  {
   "cell_type": "code",
   "execution_count": null,
   "id": "caf67f2b",
   "metadata": {},
   "outputs": [],
   "source": [
    "def getPBPdf(game_ID):\n",
    "  # Given a game ID, returns a processed DataFrame of pbp data, including possession info\n",
    "  df = playbyplayv2.PlayByPlayV2(game_ID).get_data_frames()[0]\n",
    "  df = pbpNewRows1(df)\n",
    "  df = pbpNewRows2(df)\n",
    "\n",
    "  return df"
   ]
  },
  {
   "cell_type": "code",
   "execution_count": null,
   "id": "31bc627d",
   "metadata": {},
   "outputs": [],
   "source": [
    "df_test = getPBPdf(\"0022200552\")"
   ]
  },
  {
   "cell_type": "code",
   "execution_count": null,
   "id": "df00cee1",
   "metadata": {},
   "outputs": [],
   "source": [
    "df_test[(df_test['EVENTMSGTYPE'] == 3) &\n",
    "        (df_test['EVENTMSGACTIONTYPE'].isin([10,12,15])) &\n",
    "        (df_test['PLAYER1_TEAM_ID'] == df_test['PLAYER1_TEAM_ID_1']) &\n",
    "        (df_test['EVENTMSGTYPE_1'] == 4)\n",
    "        ][['GAME_ID','EVENTNUM']]"
   ]
  },
  {
   "cell_type": "code",
   "execution_count": null,
   "id": "56b6045f",
   "metadata": {},
   "outputs": [],
   "source": [
    "df_test[df_test['PERIOD'] == 4].tail()"
   ]
  },
  {
   "cell_type": "code",
   "execution_count": null,
   "id": "a9660e64",
   "metadata": {},
   "outputs": [],
   "source": [
    "pbp_data = pd.DataFrame()\n",
    "bad_games = []\n",
    "\n",
    "for i, game_id in enumerate(game_IDs):\n",
    "  \n",
    "  percent = round(i / len(game_IDs) * 100)\n",
    "  if percent % 2 == 0:\n",
    "    print(f'{percent}% complete ({i}/{len(game_IDs)})')\n",
    "\n",
    "  try:\n",
    "    df_temp = getPBPdf(game_id)\n",
    "    pbp_data = pd.concat([pbp_data, df_temp], ignore_index=True)\n",
    "  \n",
    "  except:\n",
    "    bad_games.append(game_id)\n",
    "\n",
    "print(f'Found {len(bad_games)} games with issues...')"
   ]
  },
  {
   "cell_type": "code",
   "execution_count": null,
   "id": "2cc7df1f",
   "metadata": {},
   "outputs": [],
   "source": [
    "pbp_data.to_csv('20230130 NBA PBP Data 22-23.csv', index=False)"
   ]
  },
  {
   "cell_type": "code",
   "execution_count": null,
   "id": "ff622f9d",
   "metadata": {},
   "outputs": [],
   "source": [
    "len(pbp_data.groupby('GAME_ID'))"
   ]
  },
  {
   "cell_type": "code",
   "execution_count": null,
   "id": "e45fd6ef",
   "metadata": {},
   "outputs": [],
   "source": [
    "df_check = getPBPdf('0022200753')"
   ]
  },
  {
   "cell_type": "code",
   "execution_count": null,
   "id": "e3fe6c38",
   "metadata": {},
   "outputs": [],
   "source": [
    "pbp_data[(pbp_data['EVENTMSGTYPE'] == 3) &\n",
    "        (pbp_data['EVENTMSGACTIONTYPE'].isin([10,12,15])) &\n",
    "        (pbp_data['PLAYER1_TEAM_ID'] == pbp_data['PLAYER1_TEAM_ID_1']) &\n",
    "        (pbp_data['EVENTMSGTYPE_1'] == 4)\n",
    "        ]"
   ]
  },
  {
   "cell_type": "code",
   "execution_count": null,
   "id": "76434fa1",
   "metadata": {},
   "outputs": [],
   "source": [
    "pbp_data.iloc[103:106][['PLAYER1_ID','PLAYER1_ID_1']]"
   ]
  },
  {
   "cell_type": "code",
   "execution_count": null,
   "id": "e6543c7b",
   "metadata": {},
   "outputs": [],
   "source": [
    "orb_22_23 = pbp_data[(pbp_data['EVENTMSGTYPE'] == 3) &\n",
    "        (pbp_data['EVENTMSGACTIONTYPE'].isin([10,12,15])) &\n",
    "        (pbp_data['PLAYER1_TEAM_ID'] == pbp_data['PLAYER1_TEAM_ID_1']) &\n",
    "        (pbp_data['EVENTMSGTYPE_1'] == 4)\n",
    "        ].index.to_list()"
   ]
  },
  {
   "cell_type": "code",
   "execution_count": null,
   "id": "0ca0512d",
   "metadata": {},
   "outputs": [],
   "source": [
    "orb_solo_22_23 = pbp_data[(pbp_data['EVENTMSGTYPE'] == 3) &\n",
    "        (pbp_data['EVENTMSGACTIONTYPE'].isin([10,12,15])) &              # last FT attempt\n",
    "        (pbp_data['EVENTMSGTYPE_1'] == 4) &                              # next play is a rebound\n",
    "        (pbp_data['PLAYER1_ID'] == pbp_data['PLAYER1_ID_1'])          # next play is by the same player\n",
    "        ].index.to_list()"
   ]
  },
  {
   "cell_type": "code",
   "execution_count": null,
   "id": "83f902a7",
   "metadata": {},
   "outputs": [],
   "source": [
    "def pointsPerPossession(possessions, df):\n",
    "  # Get a list of missed shots\n",
    "  # missedShots = df.index[df['EVENTMSGTYPE'] == 2].tolist()\n",
    "\n",
    "  # For each missed shot, add if the following play is a rebound with the same team abbreviation\n",
    "  # ORB = [shot + 1 for shot in missedShots if df.loc[shot]['PLAYER1_TEAM_ABBREVIATION'] == team and \n",
    "  #                                               df.loc[shot+1]['PLAYER1_TEAM_ABBREVIATION'] == team and \n",
    "  #                                               df.loc[shot+1]['EVENTMSGTYPE'] == 4]\n",
    "\n",
    "  # Get a list of the plays where possession changed\n",
    "  possessionChanges = df[df['POSSESSION_END'] == True].index.tolist()\n",
    "  possessionChanges = np.array(possessionChanges)\n",
    "\n",
    "  # For each rebound, find the next change of possession and return the pair of start / end indices\n",
    "  poss_bounds = [[play, possessionChanges[possessionChanges > play].min()+1] for play in possessions]\n",
    "\n",
    "  # Find the total of the points for each possession after a ORB\n",
    "  points = sum([df.iloc[poss[0]:poss[1]]['SCORE_CHANGE'].sum() for poss in poss_bounds])\n",
    "  num_poss = len(possessions)\n",
    "  \n",
    "  return [points / num_poss, num_poss]\n",
    "\n",
    "# Points per possession is the total number of points divided by the number of possessions\n",
    "ppp_missedFT = pointsPerPossession(orb_solo_22_23, pbp_data)\n",
    "print(f'Points Per Possession: {ppp_missedFT[0]: .2f} (on {ppp_missedFT[1]} possessions)') "
   ]
  },
  {
   "cell_type": "code",
   "execution_count": null,
   "id": "03e2362a",
   "metadata": {},
   "outputs": [],
   "source": [
    "pbp_data['PLAYER1_ID_1'] = pbp_data['PLAYER1_ID'].shift(-1)\n",
    "pbp_data['PCTIME_SECONDS_1'] = pbp_data['PCTIME_SECONDS'].shift(-1)"
   ]
  },
  {
   "cell_type": "code",
   "execution_count": null,
   "id": "c976af85",
   "metadata": {},
   "outputs": [],
   "source": [
    "len(orb_solo_22_23)"
   ]
  },
  {
   "cell_type": "code",
   "execution_count": null,
   "id": "1983a074",
   "metadata": {},
   "outputs": [],
   "source": [
    "def eventDescription(df, INDEX=False, EVENTNUM=False, URL=True):\n",
    "  # Given an NBA play-by-play DataFrame and EVENTUM, returns the description for that play\n",
    "  # Accepts the DataFrame index or the NBA-provided EVENTNUM for the play\n",
    "\n",
    "  if EVENTNUM:\n",
    "    INDEX = df.index[df['EVENTNUM'] == int(EVENTNUM)].tolist()[0]\n",
    "\n",
    "  if not INDEX:\n",
    "    print('No location entered')\n",
    "    return\n",
    "  \n",
    "  else:\n",
    "    # Get all three possible description locations and find the first that isn't \"None\"\n",
    "    descRows = ['HOMEDESCRIPTION','NEUTRALDESCRIPTION','VISITORDESCRIPTION']\n",
    "    descValues = df.iloc[INDEX][descRows].values.flatten().tolist() \n",
    "    descEvent = next((item for item in descValues if item is not None), 'No Description')\n",
    "    \n",
    "    # Optionally return a readable description instead of a URL-parsed version\n",
    "    if URL:\n",
    "      return urllib.parse.quote(descEvent)\n",
    "    else:\n",
    "      return descEvent\n",
    "\n",
    "\n",
    "\n",
    "def getEventVidPage(df, loc, season):\n",
    "  # Given a game's play-by-play DataFrame and an event within that game, returns the NBA.com video page of that event.\n",
    "  # At the moment requires the season to be entered manually, but will eventually not require that addition.\n",
    "  # Season is a string of the season years in the form 'YYYY-YY' (e.g. '2022-23')\n",
    "\n",
    "  event_id = df.iloc[loc]['EVENTNUM']\n",
    "  game_id = df.iloc[loc]['GAME_ID']\n",
    "\n",
    "  # After further investigation it turns out that the description is not actually required for the URL to work... \n",
    "  description = eventDescription(df, loc)\n",
    "\n",
    "  vidURL = 'https://www.nba.com/stats/events?CFID=&CFPARAMS=&GameEventID={}&GameID={}&Season={}&flag=1&title={}'.format(\n",
    "    event_id,\n",
    "    game_id,\n",
    "    season,\n",
    "    description\n",
    "  )\n",
    "\n",
    "  return vidURL\n"
   ]
  },
  {
   "cell_type": "code",
   "execution_count": null,
   "id": "b711fe4b",
   "metadata": {},
   "outputs": [],
   "source": [
    "\n",
    "season = '2022-23'\n",
    "loc = 403001\n",
    "getEventVidPage(pbp_data, loc, season)"
   ]
  },
  {
   "cell_type": "code",
   "execution_count": null,
   "id": "59c2ff22",
   "metadata": {},
   "outputs": [],
   "source": [
    "pbp_data.iloc[orb_solo_22_23]"
   ]
  },
  {
   "cell_type": "code",
   "execution_count": null,
   "id": "26e1f61a",
   "metadata": {},
   "outputs": [],
   "source": [
    "def getEventVidURL(df, loc, resolution='LARGE'):\n",
    "  # Given a game_id and event_id from within that game, returns the video URL of that event.\n",
    "  # Also optionally accepts different video resolutions as a string input (SMALL, MEDIUM, LARGE)\n",
    "\n",
    "  event_id = df.iloc[loc]['EVENTNUM']\n",
    "  game_id = df.iloc[loc]['GAME_ID']\n",
    "\n",
    "  headers = {\n",
    "    'Host': 'stats.nba.com',\n",
    "    'User-Agent': 'Mozilla/5.0 (Windows NT 10.0; Win64; x64; rv:72.0) Gecko/20100101 Firefox/72.0',\n",
    "    'Accept': 'application/json, text/plain, */*',\n",
    "    'Accept-Language': 'en-US,en;q=0.5',\n",
    "    'Accept-Encoding': 'gzip, deflate, br',\n",
    "    'x-nba-stats-origin': 'stats',\n",
    "    'x-nba-stats-token': 'true',\n",
    "    'Connection': 'keep-alive',\n",
    "    'Referer': 'https://stats.nba.com/',\n",
    "    'Pragma': 'no-cache',\n",
    "    'Cache-Control': 'no-cache'\n",
    "  }\n",
    "\n",
    "  vidRes = {\n",
    "    'SMALL': 'surl',\n",
    "    'MEDIUM': 'murl',\n",
    "    'LARGE': 'lurl'\n",
    "  }\n",
    "\n",
    "  vidURL = 'https://stats.nba.com/stats/videoeventsasset?GameEventID={}&GameID={}'.format(\n",
    "    event_id, \n",
    "    game_id)\n",
    "\n",
    "  r = requests.get(vidURL, headers=headers)\n",
    "  json = r.json()\n",
    "  videoUrls = json['resultSets']['Meta']['videoUrls']\n",
    "  playlist = json['resultSets']['playlist']\n",
    "  \n",
    "  return videoUrls[0][vidRes[resolution]]"
   ]
  },
  {
   "cell_type": "code",
   "execution_count": null,
   "id": "03ff308a",
   "metadata": {},
   "outputs": [],
   "source": [
    "getEventVidURL(pbp_data, 403001)"
   ]
  },
  {
   "cell_type": "code",
   "execution_count": null,
   "id": "c3bfff95",
   "metadata": {},
   "outputs": [],
   "source": [
    "def save_NBA_vid(df, loc, filename):\n",
    "\n",
    "  url = getEventVidURL(df, loc)\n",
    "  save_as = filename\n",
    "\n",
    "  # Download from URL\n",
    "  with urllib.request.urlopen(url) as file:\n",
    "      content = file.read()\n",
    "\n",
    "  # Save to file\n",
    "  with open(save_as, 'wb') as download:\n",
    "      download.write(content)"
   ]
  },
  {
   "cell_type": "code",
   "execution_count": null,
   "id": "551921b8",
   "metadata": {},
   "outputs": [],
   "source": [
    "for i, loc in enumerate(orb_solo_22_23):\n",
    "\n",
    "  filename = f'NBA_VID/FT_REB_{i} - {pbp_data.iloc[loc][\"GAME_ID\"]}_{pbp_data.iloc[loc][\"EVENTNUM\"]}.mp4'\n",
    "  print(filename)"
   ]
  },
  {
   "cell_type": "code",
   "execution_count": null,
   "id": "3a8ad869",
   "metadata": {},
   "outputs": [],
   "source": [
    "game_teams = [game['TEAM_NAME'] for game in games]"
   ]
  },
  {
   "cell_type": "code",
   "execution_count": null,
   "id": "c1e0e482",
   "metadata": {},
   "outputs": [],
   "source": [
    "gamesDF = pd.DataFrame(games)"
   ]
  },
  {
   "cell_type": "code",
   "execution_count": null,
   "id": "a930a39d",
   "metadata": {},
   "outputs": [],
   "source": [
    "gamesDF"
   ]
  },
  {
   "cell_type": "code",
   "execution_count": 118,
   "id": "8f34f6ab",
   "metadata": {},
   "outputs": [
    {
     "name": "stdout",
     "output_type": "stream",
     "text": [
      "Nothing done.\n"
     ]
    }
   ],
   "source": [
    "%reset"
   ]
  },
  {
   "cell_type": "code",
   "execution_count": null,
   "id": "de134aed",
   "metadata": {},
   "outputs": [],
   "source": []
  }
 ],
 "metadata": {
  "kernelspec": {
   "display_name": "base",
   "language": "python",
   "name": "python3"
  },
  "language_info": {
   "codemirror_mode": {
    "name": "ipython",
    "version": 3
   },
   "file_extension": ".py",
   "mimetype": "text/x-python",
   "name": "python",
   "nbconvert_exporter": "python",
   "pygments_lexer": "ipython3",
   "version": "3.8.5 (default, Sep  4 2020, 02:22:02) \n[Clang 10.0.0 ]"
  },
  "vscode": {
   "interpreter": {
    "hash": "43092ca24a718305f969bc83398e731fec37f4c68f138e85e23999d168073246"
   }
  }
 },
 "nbformat": 4,
 "nbformat_minor": 5
}
