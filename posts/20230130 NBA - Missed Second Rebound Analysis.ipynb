{
 "cells": [
  {
   "attachments": {},
   "cell_type": "markdown",
   "metadata": {},
   "source": [
    "# Missed Second Rebounds\n",
    "\n",
    "For poor free throw shooters, is it a better strategy to *intentionally* miss the second free throw and aim for the offensive rebound and new possession? Analysis of play-by-play data using [nba_api](https://github.com/swar/nba_api)."
   ]
  },
  {
   "cell_type": "code",
   "execution_count": 1,
   "metadata": {},
   "outputs": [],
   "source": [
    "import numpy as np\n",
    "import pandas as pd\n",
    "import urllib\n",
    "import requests\n",
    "\n",
    "from nba_api.stats.endpoints import playbyplayv2\n",
    "from nba_api.stats.static import teams\n",
    "from nba_api.stats.endpoints import leaguegamelog"
   ]
  },
  {
   "attachments": {},
   "cell_type": "markdown",
   "metadata": {},
   "source": [
    "## Getting Data"
   ]
  },
  {
   "cell_type": "code",
   "execution_count": 129,
   "metadata": {},
   "outputs": [],
   "source": [
    "gamelog = leaguegamelog.LeagueGameLog(counter=0,\n",
    "                                      direction='ASC',\n",
    "                                      league_id='00',\n",
    "                                      player_or_team_abbreviation='T',\n",
    "                                      season='2021-22',\n",
    "                                      season_type_all_star='Regular Season',\n",
    "                                      sorter='DATE')"
   ]
  },
  {
   "cell_type": "code",
   "execution_count": 130,
   "metadata": {},
   "outputs": [],
   "source": [
    "games_dict = gamelog.get_normalized_dict()['LeagueGameLog']\n",
    "game_IDs_raw = [(game['GAME_ID'], game['GAME_DATE'], game['MATCHUP']) for game in games_dict]\n",
    "game_IDs = [game['GAME_ID'] for game in games_dict]\n",
    "game_IDs = list(set(game_IDs))\n",
    "game_IDs_dict = {game[0]: game[1] for game in game_IDs_raw}\n",
    "game_matchups = {game[0]: game[2] for game in game_IDs_raw}"
   ]
  },
  {
   "cell_type": "code",
   "execution_count": 5,
   "metadata": {},
   "outputs": [],
   "source": [
    "#Convert the game clock time to seconds and re-order\n",
    "def pbpNewRows1(df):\n",
    "  df['PCTIME_SECONDS'] = df['PCTIMESTRING'].map(lambda x: int(x.split(\":\")[0])*60 + int(x.split(\":\")[1]))\n",
    "  df = df.sort_values(['PERIOD','PCTIME_SECONDS','EVENTNUM'], ascending=[True,False,True])\n",
    "  df = df.reset_index(drop=True)\n",
    "\n",
    "  #Update the SCORE column to fill in blanks\n",
    "  df.at[0,\"SCORE\"] = \"0 - 0\"\n",
    "  df[\"SCORE\"] = df[\"SCORE\"].fillna(method=\"ffill\")\n",
    "\n",
    "  #New columns for possession formulae\n",
    "  df['EVENTMSGTYPE_1'] = df['EVENTMSGTYPE'].shift(-1)\n",
    "  df['EVENTMSGACTIONTYPE_1'] = df['EVENTMSGACTIONTYPE'].shift(-1)\n",
    "  df['PCTIME_SECONDS_1'] = df['PCTIME_SECONDS'].shift(-1)\n",
    "  df['PLAYER1_TEAM_ID_1'] = df['PLAYER1_TEAM_ID'].shift(-1)\n",
    "  df['PLAYER1_ID_1'] = df['PLAYER1_ID'].shift(-1)\n",
    "  df['PCTIME_SECONDS_1'] = df['PCTIME_SECONDS'].shift(-1)\n",
    "  df['SCORE_1'] = df['SCORE'].shift(1)\n",
    "  df.at[0,'SCORE_1'] = \"0 - 0\"\n",
    "\n",
    "  #Adding game date and matchup\n",
    "  df['GAME_DATE'] = df.apply(lambda row: game_IDs_dict[row['GAME_ID']], axis=1)\n",
    "  df['MATCHUP'] = df.apply(lambda row: game_matchups[row['GAME_ID']], axis=1)\n",
    "\n",
    "  return df\n",
    "\n",
    "def possEndFG(loc, df):\n",
    "    # Check if it's a shooting foul: the next play is a foul with the same time code\n",
    "    if (df.iloc[loc]['EVENTMSGTYPE_1'] == 6) and (df.iloc[loc]['PCTIME_SECONDS'] == df.iloc[loc]['PCTIME_SECONDS_1']):\n",
    "        return False\n",
    "    else:\n",
    "        return True\n",
    "    \n",
    "def possEndRebound(loc, df):\n",
    "    # Check for offensive rebound: the next play (i.e. the rebound after a miss) is by the same team\n",
    "    if df.iloc[loc]['PLAYER1_TEAM_ID'] == df.iloc[loc]['PLAYER1_TEAM_ID_1']:\n",
    "        return False\n",
    "    else:\n",
    "        return True\n",
    "\n",
    "def possEndFT(loc, df):\n",
    "    # Check for last FT (10 is 1st of 1; 12 is 2nd of 2; 15 is 3rd of 3) \n",
    "    if df.iloc[loc]['EVENTMSGACTIONTYPE'] in [10,12,15]:\n",
    "        if (df.iloc[loc]['EVENTMSGTYPE_1'] == 4):\n",
    "            return possEndRebound(loc, df)\n",
    "        else:\n",
    "            return True\n",
    "    else:\n",
    "        return False\n",
    "\n",
    "# The keys in this dict correspond to relevant EVENTMSGTYPE (1 - FG make, 2 - FG miss, 3 - FT attempt)\n",
    "possOutcomesDict = {\n",
    "    '1': possEndFG,\n",
    "    '2': possEndRebound,\n",
    "    '3': possEndFT\n",
    "}\n",
    "\n",
    "\n",
    "def possEndCheck(loc, df):    \n",
    "    if df.iloc[loc]['EVENTMSGTYPE'] in [1,2,3]:\n",
    "        #print(f\"running {possOutcomesDict[str(df.iloc[loc]['EVENTMSGTYPE'])]}\")\n",
    "        return possOutcomesDict[str(df.iloc[loc]['EVENTMSGTYPE'])](loc, df)\n",
    "    elif df.iloc[loc]['EVENTMSGTYPE'] in [5,13]:\n",
    "        return True\n",
    "    else:\n",
    "        return False\n",
    "\n",
    "\n",
    "def pbpNewRows2(df):\n",
    "\n",
    "    # Add new column for possession end True / False\n",
    "    df['POSSESSION_END'] = [possEndCheck(loc, df) for loc in range(len(df))]\n",
    "\n",
    "    # Gets team that wins the tip - index 0 is the start of game play \n",
    "    # Index 1 is the jump ball row and Player 3 is who it gets tipped to\n",
    "    currentTeam = [df.iloc[1][\"PLAYER3_TEAM_ABBREVIATION\"]][0]\n",
    "\n",
    "    # Get the abbreviations of the two teams \n",
    "    teamNames = list(filter(lambda x: x is not None, df[\"PLAYER1_TEAM_ABBREVIATION\"].unique().tolist()))\n",
    "\n",
    "    # Initialising variables for the loop\n",
    "    switch = True\n",
    "    teamInPoss = []\n",
    "\n",
    "    for idx, loc in enumerate(range(len(df))):\n",
    "        \n",
    "        teamInPoss.append(currentTeam)\n",
    "\n",
    "        # If POSSESSION_END == True, switch the team in possession for the next play\n",
    "        if df.iloc[loc][\"POSSESSION_END\"]:\n",
    "            currentTeam = teamNames[int(not switch)]\n",
    "            switch = not switch\n",
    "\n",
    "    df[\"POSSESSION_TEAM_ABBREVIATION\"] = teamInPoss\n",
    "\n",
    "    # Calculates the change in score between two plays - they don't have to be sequential\n",
    "    def eventScore(before,after):\n",
    "\n",
    "        start_score = str(before).split(\" - \")\n",
    "        end_score = str(after).split(\" - \")\n",
    "\n",
    "        diff_score = [int(x)-int(y) for x, y in zip(end_score, start_score)]\n",
    "\n",
    "        return max(diff_score)\n",
    "\n",
    "    df['SCORE_CHANGE'] = df.apply(lambda row: eventScore(row['SCORE_1'],row['SCORE']), axis=1)\n",
    "\n",
    "    return df"
   ]
  },
  {
   "cell_type": "code",
   "execution_count": 6,
   "metadata": {},
   "outputs": [],
   "source": [
    "def getPBPdf(game_ID):\n",
    "  # Given a game ID, returns a processed DataFrame of pbp data, including possession info\n",
    "  df = playbyplayv2.PlayByPlayV2(game_ID).get_data_frames()[0]\n",
    "  df = pbpNewRows1(df)\n",
    "  df = pbpNewRows2(df)\n",
    "\n",
    "  return df"
   ]
  },
  {
   "cell_type": "code",
   "execution_count": 48,
   "metadata": {},
   "outputs": [
    {
     "name": "stdout",
     "output_type": "stream",
     "text": [
      "0.0% complete (0/2118)\n",
      "0.9% complete (20/2118)\n",
      "1.9% complete (40/2118)\n",
      "2.8% complete (60/2118)\n",
      "3.8% complete (80/2118)\n",
      "4.7% complete (100/2118)\n",
      "5.7% complete (120/2118)\n",
      "6.6% complete (140/2118)\n",
      "7.6% complete (160/2118)\n",
      "8.5% complete (180/2118)\n",
      "9.4% complete (200/2118)\n",
      "10.4% complete (220/2118)\n",
      "11.3% complete (240/2118)\n",
      "12.3% complete (260/2118)\n",
      "13.2% complete (280/2118)\n",
      "14.2% complete (300/2118)\n",
      "15.1% complete (320/2118)\n",
      "16.1% complete (340/2118)\n",
      "17.0% complete (360/2118)\n",
      "17.9% complete (380/2118)\n",
      "18.9% complete (400/2118)\n",
      "19.8% complete (420/2118)\n",
      "20.8% complete (440/2118)\n",
      "21.7% complete (460/2118)\n",
      "22.7% complete (480/2118)\n",
      "23.6% complete (500/2118)\n",
      "24.6% complete (520/2118)\n",
      "25.5% complete (540/2118)\n",
      "26.4% complete (560/2118)\n",
      "27.4% complete (580/2118)\n",
      "28.3% complete (600/2118)\n",
      "29.3% complete (620/2118)\n",
      "30.2% complete (640/2118)\n",
      "31.2% complete (660/2118)\n",
      "32.1% complete (680/2118)\n",
      "33.1% complete (700/2118)\n",
      "34.0% complete (720/2118)\n",
      "34.9% complete (740/2118)\n",
      "35.9% complete (760/2118)\n",
      "36.8% complete (780/2118)\n",
      "37.8% complete (800/2118)\n",
      "38.7% complete (820/2118)\n",
      "39.7% complete (840/2118)\n",
      "40.6% complete (860/2118)\n",
      "41.5% complete (880/2118)\n",
      "42.5% complete (900/2118)\n",
      "43.4% complete (920/2118)\n",
      "44.4% complete (940/2118)\n",
      "45.3% complete (960/2118)\n",
      "46.3% complete (980/2118)\n",
      "47.2% complete (1000/2118)\n",
      "48.2% complete (1020/2118)\n",
      "49.1% complete (1040/2118)\n",
      "50.0% complete (1060/2118)\n",
      "51.0% complete (1080/2118)\n",
      "51.9% complete (1100/2118)\n",
      "52.9% complete (1120/2118)\n",
      "53.8% complete (1140/2118)\n",
      "54.8% complete (1160/2118)\n",
      "55.7% complete (1180/2118)\n",
      "56.7% complete (1200/2118)\n",
      "57.6% complete (1220/2118)\n",
      "58.5% complete (1240/2118)\n",
      "59.5% complete (1260/2118)\n",
      "60.4% complete (1280/2118)\n",
      "61.4% complete (1300/2118)\n",
      "62.3% complete (1320/2118)\n",
      "63.3% complete (1340/2118)\n",
      "64.2% complete (1360/2118)\n",
      "65.2% complete (1380/2118)\n",
      "66.1% complete (1400/2118)\n",
      "67.0% complete (1420/2118)\n",
      "68.0% complete (1440/2118)\n",
      "68.9% complete (1460/2118)\n",
      "69.9% complete (1480/2118)\n",
      "70.8% complete (1500/2118)\n",
      "71.8% complete (1520/2118)\n",
      "72.7% complete (1540/2118)\n",
      "73.7% complete (1560/2118)\n",
      "74.6% complete (1580/2118)\n",
      "75.5% complete (1600/2118)\n",
      "76.5% complete (1620/2118)\n",
      "77.4% complete (1640/2118)\n",
      "78.4% complete (1660/2118)\n",
      "79.3% complete (1680/2118)\n",
      "80.3% complete (1700/2118)\n",
      "81.2% complete (1720/2118)\n",
      "82.2% complete (1740/2118)\n",
      "83.1% complete (1760/2118)\n",
      "84.0% complete (1780/2118)\n",
      "85.0% complete (1800/2118)\n",
      "85.9% complete (1820/2118)\n",
      "86.9% complete (1840/2118)\n",
      "87.8% complete (1860/2118)\n",
      "88.8% complete (1880/2118)\n",
      "89.7% complete (1900/2118)\n",
      "90.7% complete (1920/2118)\n",
      "91.6% complete (1940/2118)\n",
      "92.5% complete (1960/2118)\n",
      "93.5% complete (1980/2118)\n",
      "94.4% complete (2000/2118)\n",
      "95.4% complete (2020/2118)\n",
      "96.3% complete (2040/2118)\n",
      "97.3% complete (2060/2118)\n",
      "98.2% complete (2080/2118)\n",
      "99.2% complete (2100/2118)\n",
      "Found 82 games with issues...\n"
     ]
    }
   ],
   "source": [
    "pbp_data = pd.DataFrame()\n",
    "bad_games = []\n",
    "\n",
    "for i, game_id in enumerate(game_IDs):\n",
    "  \n",
    "  percent = round(i / len(game_IDs) * 100,1)\n",
    "  if i % 20 == 0:\n",
    "    print(f'{percent}% complete ({i} / {len(game_IDs)})')\n",
    "\n",
    "  try:\n",
    "    df_temp = getPBPdf(game_id[0])\n",
    "    pbp_data = pd.concat([pbp_data, df_temp], ignore_index=True)\n",
    "  \n",
    "  except:\n",
    "    bad_games.append(game_id)\n",
    "\n",
    "print(f'Found {len(bad_games)} games with issues...')"
   ]
  },
  {
   "cell_type": "code",
   "execution_count": 49,
   "metadata": {},
   "outputs": [],
   "source": [
    "pbp_data.to_csv('20230201 NBA PBP Data 19-20.csv', index=False)"
   ]
  },
  {
   "cell_type": "code",
   "execution_count": 128,
   "metadata": {},
   "outputs": [],
   "source": [
    "#pbp_data.to_csv('20230130 NBA PBP Data 22-23.csv', index=False)"
   ]
  },
  {
   "attachments": {},
   "cell_type": "markdown",
   "metadata": {},
   "source": [
    "## Analysis"
   ]
  },
  {
   "cell_type": "code",
   "execution_count": 22,
   "metadata": {},
   "outputs": [],
   "source": [
    "# Re-load data from CSV\n",
    "pbp_data = pd.read_csv('NBA_PBP_21_22.csv')\n",
    "pbp_data['GAME_ID'] = pbp_data.apply(lambda row: '00' + str(row['GAME_ID']), axis=1)\n",
    "\n",
    "# Below rows are no longer required––leftover from cleaning up the first pass\n",
    "#pbp_data['GAME_DATE'] = pbp_data.apply(lambda row: game_IDs_dict[row['GAME_ID']], axis=1)\n",
    "#pbp_data['MATCHUP'] = pbp_data.apply(lambda row: game_matchups[row['GAME_ID']], axis=1)"
   ]
  },
  {
   "cell_type": "code",
   "execution_count": 23,
   "metadata": {},
   "outputs": [],
   "source": [
    "orb_solo = pbp_data[(pbp_data['EVENTMSGTYPE'] == 3) &\n",
    "        (pbp_data['EVENTMSGACTIONTYPE'].isin([10,12,15])) &              # last FT attempt\n",
    "        (pbp_data['EVENTMSGTYPE_1'] == 4) &                              # next play is a rebound\n",
    "        (pbp_data['PLAYER1_ID'] == pbp_data['PLAYER1_ID_1'])             # next play is by the same player\n",
    "        ].index.to_list()"
   ]
  },
  {
   "cell_type": "code",
   "execution_count": 26,
   "metadata": {},
   "outputs": [],
   "source": [
    "orb_solo_shot = []\n",
    "for loc in orb_solo:\n",
    "  if pbp_data.iloc[loc + 1]['EVENTMSGTYPE_1'] in [1,2] and pbp_data.iloc[loc + 1]['PLAYER1_ID'] == pbp_data.iloc[loc + 1]['PLAYER1_ID_1']:\n",
    "\n",
    "     orb_solo_shot.append(loc + 1)"
   ]
  },
  {
   "cell_type": "code",
   "execution_count": 27,
   "metadata": {},
   "outputs": [
    {
     "name": "stdout",
     "output_type": "stream",
     "text": [
      "107\n",
      "44\n"
     ]
    }
   ],
   "source": [
    "print(len(orb_solo))\n",
    "print(len(orb_solo_shot))"
   ]
  },
  {
   "cell_type": "code",
   "execution_count": 143,
   "metadata": {},
   "outputs": [
    {
     "name": "stdout",
     "output_type": "stream",
     "text": [
      "Points Per Possession:  1.10 (on 107 possessions)\n"
     ]
    }
   ],
   "source": [
    "def pointsPerPossession(possessions, df):\n",
    "  # Get a list of the plays where possession changed\n",
    "  possessionChanges = df[df['POSSESSION_END'] == True].index.tolist()\n",
    "  possessionChanges = np.array(possessionChanges)\n",
    "\n",
    "  # For each rebound, find the next change of possession and return the pair of start / end indices\n",
    "  poss_bounds = [[play, possessionChanges[possessionChanges > play].min()+1] for play in possessions]\n",
    "\n",
    "  # Find the total of the points for each possession after a ORB\n",
    "  points = sum([df.iloc[poss[0]:poss[1]]['SCORE_CHANGE'].sum() for poss in poss_bounds])\n",
    "  num_poss = len(possessions)\n",
    "  \n",
    "  return [points / num_poss, num_poss]\n",
    "\n",
    "# Points per possession is the total number of points divided by the number of possessions\n",
    "ppp_missedFT = pointsPerPossession(orb_solo, pbp_data)\n",
    "print(f'Points Per Possession: {ppp_missedFT[0]: .2f} (on {ppp_missedFT[1]} possessions)') "
   ]
  },
  {
   "cell_type": "code",
   "execution_count": 29,
   "metadata": {},
   "outputs": [],
   "source": [
    "def getEventVidURL(df, loc, resolution='LARGE'):\n",
    "  # Given a game_id and event_id from within that game, returns the video URL of that event.\n",
    "  # Also optionally accepts different video resolutions as a string input (SMALL, MEDIUM, LARGE)\n",
    "\n",
    "  event_id = df.iloc[loc]['EVENTNUM']\n",
    "  game_id = df.iloc[loc]['GAME_ID']\n",
    "\n",
    "  #print(\"Got locations\")\n",
    "\n",
    "  headers = {\n",
    "    'Host': 'stats.nba.com',\n",
    "    'User-Agent': 'Mozilla/5.0 (Windows NT 10.0; Win64; x64; rv:72.0) Gecko/20100101 Firefox/72.0',\n",
    "    'Accept': 'application/json, text/plain, */*',\n",
    "    'Accept-Language': 'en-US,en;q=0.5',\n",
    "    'Accept-Encoding': 'gzip, deflate, br',\n",
    "    'x-nba-stats-origin': 'stats',\n",
    "    'x-nba-stats-token': 'true',\n",
    "    'Connection': 'keep-alive',\n",
    "    'Referer': 'https://stats.nba.com/',\n",
    "    'Pragma': 'no-cache',\n",
    "    'Cache-Control': 'no-cache'\n",
    "  }\n",
    "\n",
    "  vidRes = {\n",
    "    'SMALL': 'surl',\n",
    "    'MEDIUM': 'murl',\n",
    "    'LARGE': 'lurl'\n",
    "  }\n",
    "\n",
    "  vidURL = 'https://stats.nba.com/stats/videoeventsasset?GameEventID={}&GameID={}'.format(\n",
    "    event_id, \n",
    "    game_id)\n",
    "\n",
    "  #print(\"Making request for \" + str(loc))\n",
    "\n",
    "  r = requests.get(vidURL, headers=headers)\n",
    "  json = r.json()\n",
    "  videoUrls = json['resultSets']['Meta']['videoUrls']\n",
    "  playlist = json['resultSets']['playlist']\n",
    "  \n",
    "  return videoUrls[0][vidRes[resolution]]"
   ]
  },
  {
   "cell_type": "code",
   "execution_count": 136,
   "metadata": {},
   "outputs": [
    {
     "ename": "IndexError",
     "evalue": "list index out of range",
     "output_type": "error",
     "traceback": [
      "\u001b[0;31m---------------------------------------------------------------------------\u001b[0m",
      "\u001b[0;31mIndexError\u001b[0m                                Traceback (most recent call last)",
      "Cell \u001b[0;32mIn[136], line 2\u001b[0m\n\u001b[1;32m      1\u001b[0m season \u001b[39m=\u001b[39m \u001b[39m'\u001b[39m\u001b[39m2021-22\u001b[39m\u001b[39m'\u001b[39m\n\u001b[0;32m----> 2\u001b[0m loc \u001b[39m=\u001b[39m orb_solo[\u001b[39m107\u001b[39;49m]\n\u001b[1;32m      3\u001b[0m getEventVidURL(pbp_data, loc)\n",
      "\u001b[0;31mIndexError\u001b[0m: list index out of range"
     ]
    }
   ],
   "source": [
    "season = '2021-22'\n",
    "loc = orb_solo[107]\n",
    "getEventVidURL(pbp_data, loc)"
   ]
  },
  {
   "cell_type": "code",
   "execution_count": 137,
   "metadata": {},
   "outputs": [],
   "source": [
    "no_tip = [3,7,8,11,12,14,15,17,21,24,26,29,33,40,41,46,47,48,49,54,57,59,63,65,66,68,69,71,72,73,75,76,86,87,93,94,95,97,103,104,105]\n",
    "no_vid = [4,9,35,52,61,64,78,89]\n",
    "check_locs = [51,88]"
   ]
  },
  {
   "cell_type": "code",
   "execution_count": 139,
   "metadata": {},
   "outputs": [],
   "source": [
    "no_tip_locs = [orb_solo[num] for num in no_tip]"
   ]
  },
  {
   "cell_type": "code",
   "execution_count": 144,
   "metadata": {},
   "outputs": [],
   "source": [
    "no_tip_solo = []\n",
    "for loc in no_tip_locs:\n",
    "  if pbp_data.iloc[loc + 1]['EVENTMSGTYPE_1'] in [1,2] and pbp_data.iloc[loc + 1]['PLAYER1_ID'] == pbp_data.iloc[loc + 1]['PLAYER1_ID_1']:\n",
    "\n",
    "     no_tip_solo.append(loc + 1)"
   ]
  },
  {
   "cell_type": "code",
   "execution_count": 146,
   "metadata": {},
   "outputs": [
    {
     "data": {
      "text/plain": [
       "25"
      ]
     },
     "execution_count": 146,
     "metadata": {},
     "output_type": "execute_result"
    }
   ],
   "source": [
    "len(no_tip_solo)"
   ]
  },
  {
   "cell_type": "code",
   "execution_count": 147,
   "metadata": {},
   "outputs": [
    {
     "data": {
      "text/plain": [
       "[1.12, 25]"
      ]
     },
     "execution_count": 147,
     "metadata": {},
     "output_type": "execute_result"
    }
   ],
   "source": [
    "pointsPerPossession(no_tip_locs, pbp_data)"
   ]
  },
  {
   "cell_type": "code",
   "execution_count": 15,
   "metadata": {},
   "outputs": [],
   "source": [
    "def checkGame(df, loc=False, event_id=False, game_id=False):\n",
    "\n",
    "  if event_id:\n",
    "    df.index[(df['GAME_ID'] == str(game_id)) & (df['EVENTNUM'] == int(event_id))]\n",
    "  else:\n",
    "    if not loc:\n",
    "      return\n",
    "\n",
    "  game_id = df.iloc[loc]['GAME_ID']\n",
    "  event_id = df.iloc[loc]['EVENTNUM']\n",
    "  game_date = df.iloc[loc]['GAME_DATE']\n",
    "  matchup = df.iloc[loc]['MATCHUP']\n",
    "  \n",
    "  print(f'{matchup} - {game_date}')\n",
    "  print(f'GAME_ID: {game_id}')\n",
    "  print(f'EVENT_ID: {event_id}')\n",
    "  print(f'LOC: {loc}')\n"
   ]
  },
  {
   "cell_type": "code",
   "execution_count": 17,
   "metadata": {},
   "outputs": [
    {
     "ename": "IndexError",
     "evalue": "single positional indexer is out-of-bounds",
     "output_type": "error",
     "traceback": [
      "\u001b[0;31m---------------------------------------------------------------------------\u001b[0m",
      "\u001b[0;31mIndexError\u001b[0m                                Traceback (most recent call last)",
      "Cell \u001b[0;32mIn[17], line 1\u001b[0m\n\u001b[0;32m----> 1\u001b[0m checkGame(pbp_data, \u001b[39m571976\u001b[39;49m)\n",
      "Cell \u001b[0;32mIn[15], line 9\u001b[0m, in \u001b[0;36mcheckGame\u001b[0;34m(df, loc, event_id, game_id)\u001b[0m\n\u001b[1;32m      6\u001b[0m   \u001b[39mif\u001b[39;00m \u001b[39mnot\u001b[39;00m loc:\n\u001b[1;32m      7\u001b[0m     \u001b[39mreturn\u001b[39;00m\n\u001b[0;32m----> 9\u001b[0m game_id \u001b[39m=\u001b[39m df\u001b[39m.\u001b[39;49miloc[loc][\u001b[39m'\u001b[39m\u001b[39mGAME_ID\u001b[39m\u001b[39m'\u001b[39m]\n\u001b[1;32m     10\u001b[0m event_id \u001b[39m=\u001b[39m df\u001b[39m.\u001b[39miloc[loc][\u001b[39m'\u001b[39m\u001b[39mEVENTNUM\u001b[39m\u001b[39m'\u001b[39m]\n\u001b[1;32m     11\u001b[0m game_date \u001b[39m=\u001b[39m df\u001b[39m.\u001b[39miloc[loc][\u001b[39m'\u001b[39m\u001b[39mGAME_DATE\u001b[39m\u001b[39m'\u001b[39m]\n",
      "File \u001b[0;32m~/opt/miniconda3/lib/python3.8/site-packages/pandas/core/indexing.py:895\u001b[0m, in \u001b[0;36m_LocationIndexer.__getitem__\u001b[0;34m(self, key)\u001b[0m\n\u001b[1;32m    892\u001b[0m axis \u001b[39m=\u001b[39m \u001b[39mself\u001b[39m\u001b[39m.\u001b[39maxis \u001b[39mor\u001b[39;00m \u001b[39m0\u001b[39m\n\u001b[1;32m    894\u001b[0m maybe_callable \u001b[39m=\u001b[39m com\u001b[39m.\u001b[39mapply_if_callable(key, \u001b[39mself\u001b[39m\u001b[39m.\u001b[39mobj)\n\u001b[0;32m--> 895\u001b[0m \u001b[39mreturn\u001b[39;00m \u001b[39mself\u001b[39;49m\u001b[39m.\u001b[39;49m_getitem_axis(maybe_callable, axis\u001b[39m=\u001b[39;49maxis)\n",
      "File \u001b[0;32m~/opt/miniconda3/lib/python3.8/site-packages/pandas/core/indexing.py:1501\u001b[0m, in \u001b[0;36m_iLocIndexer._getitem_axis\u001b[0;34m(self, key, axis)\u001b[0m\n\u001b[1;32m   1498\u001b[0m     \u001b[39mraise\u001b[39;00m \u001b[39mTypeError\u001b[39;00m(\u001b[39m\"\u001b[39m\u001b[39mCannot index by location index with a non-integer key\u001b[39m\u001b[39m\"\u001b[39m)\n\u001b[1;32m   1500\u001b[0m \u001b[39m# validate the location\u001b[39;00m\n\u001b[0;32m-> 1501\u001b[0m \u001b[39mself\u001b[39;49m\u001b[39m.\u001b[39;49m_validate_integer(key, axis)\n\u001b[1;32m   1503\u001b[0m \u001b[39mreturn\u001b[39;00m \u001b[39mself\u001b[39m\u001b[39m.\u001b[39mobj\u001b[39m.\u001b[39m_ixs(key, axis\u001b[39m=\u001b[39maxis)\n",
      "File \u001b[0;32m~/opt/miniconda3/lib/python3.8/site-packages/pandas/core/indexing.py:1444\u001b[0m, in \u001b[0;36m_iLocIndexer._validate_integer\u001b[0;34m(self, key, axis)\u001b[0m\n\u001b[1;32m   1442\u001b[0m len_axis \u001b[39m=\u001b[39m \u001b[39mlen\u001b[39m(\u001b[39mself\u001b[39m\u001b[39m.\u001b[39mobj\u001b[39m.\u001b[39m_get_axis(axis))\n\u001b[1;32m   1443\u001b[0m \u001b[39mif\u001b[39;00m key \u001b[39m>\u001b[39m\u001b[39m=\u001b[39m len_axis \u001b[39mor\u001b[39;00m key \u001b[39m<\u001b[39m \u001b[39m-\u001b[39mlen_axis:\n\u001b[0;32m-> 1444\u001b[0m     \u001b[39mraise\u001b[39;00m \u001b[39mIndexError\u001b[39;00m(\u001b[39m\"\u001b[39m\u001b[39msingle positional indexer is out-of-bounds\u001b[39m\u001b[39m\"\u001b[39m)\n",
      "\u001b[0;31mIndexError\u001b[0m: single positional indexer is out-of-bounds"
     ]
    }
   ],
   "source": [
    "checkGame(pbp_data, 571976)"
   ]
  },
  {
   "cell_type": "code",
   "execution_count": 128,
   "metadata": {},
   "outputs": [
    {
     "data": {
      "text/plain": [
       "1230"
      ]
     },
     "execution_count": 128,
     "metadata": {},
     "output_type": "execute_result"
    }
   ],
   "source": [
    "datapbp_data['GAME_ID'].unique().size"
   ]
  },
  {
   "cell_type": "code",
   "execution_count": null,
   "metadata": {},
   "outputs": [],
   "source": []
  },
  {
   "cell_type": "code",
   "execution_count": 20,
   "metadata": {},
   "outputs": [],
   "source": [
    "def save_NBA_vid(df, loc, filename):\n",
    "\n",
    "  url = getEventVidURL(df, loc)\n",
    "  save_as = filename\n",
    "\n",
    "  # Download from URL\n",
    "  with urllib.request.urlopen(url) as file:\n",
    "    content = file.read()\n",
    "\n",
    "  # Save to file\n",
    "  with open(save_as, 'wb') as download:\n",
    "    download.write(content)\n",
    "\n",
    "  print(f'Saved {filename}')"
   ]
  },
  {
   "cell_type": "code",
   "execution_count": 9,
   "metadata": {},
   "outputs": [
    {
     "ename": "KeyboardInterrupt",
     "evalue": "",
     "output_type": "error",
     "traceback": [
      "\u001b[0;31m---------------------------------------------------------------------------\u001b[0m",
      "\u001b[0;31mKeyboardInterrupt\u001b[0m                         Traceback (most recent call last)",
      "Cell \u001b[0;32mIn[9], line 3\u001b[0m\n\u001b[1;32m      1\u001b[0m \u001b[39mfor\u001b[39;00m loc \u001b[39min\u001b[39;00m orb_solo:\n\u001b[1;32m      2\u001b[0m   \u001b[39m#print(loc)\u001b[39;00m\n\u001b[0;32m----> 3\u001b[0m   getEventVidURL(pbp_data, loc)\n",
      "Cell \u001b[0;32mIn[7], line 36\u001b[0m, in \u001b[0;36mgetEventVidURL\u001b[0;34m(df, loc, resolution)\u001b[0m\n\u001b[1;32m     30\u001b[0m vidURL \u001b[39m=\u001b[39m \u001b[39m'\u001b[39m\u001b[39mhttps://stats.nba.com/stats/videoeventsasset?GameEventID=\u001b[39m\u001b[39m{}\u001b[39;00m\u001b[39m&GameID=\u001b[39m\u001b[39m{}\u001b[39;00m\u001b[39m'\u001b[39m\u001b[39m.\u001b[39mformat(\n\u001b[1;32m     31\u001b[0m   event_id, \n\u001b[1;32m     32\u001b[0m   game_id)\n\u001b[1;32m     34\u001b[0m \u001b[39m#print(\"Making request for \" + str(loc))\u001b[39;00m\n\u001b[0;32m---> 36\u001b[0m r \u001b[39m=\u001b[39m requests\u001b[39m.\u001b[39;49mget(vidURL, headers\u001b[39m=\u001b[39;49mheaders)\n\u001b[1;32m     37\u001b[0m json \u001b[39m=\u001b[39m r\u001b[39m.\u001b[39mjson()\n\u001b[1;32m     38\u001b[0m videoUrls \u001b[39m=\u001b[39m json[\u001b[39m'\u001b[39m\u001b[39mresultSets\u001b[39m\u001b[39m'\u001b[39m][\u001b[39m'\u001b[39m\u001b[39mMeta\u001b[39m\u001b[39m'\u001b[39m][\u001b[39m'\u001b[39m\u001b[39mvideoUrls\u001b[39m\u001b[39m'\u001b[39m]\n",
      "File \u001b[0;32m~/opt/miniconda3/lib/python3.8/site-packages/requests/api.py:73\u001b[0m, in \u001b[0;36mget\u001b[0;34m(url, params, **kwargs)\u001b[0m\n\u001b[1;32m     62\u001b[0m \u001b[39mdef\u001b[39;00m \u001b[39mget\u001b[39m(url, params\u001b[39m=\u001b[39m\u001b[39mNone\u001b[39;00m, \u001b[39m*\u001b[39m\u001b[39m*\u001b[39mkwargs):\n\u001b[1;32m     63\u001b[0m     \u001b[39mr\u001b[39m\u001b[39m\"\"\"Sends a GET request.\u001b[39;00m\n\u001b[1;32m     64\u001b[0m \n\u001b[1;32m     65\u001b[0m \u001b[39m    :param url: URL for the new :class:`Request` object.\u001b[39;00m\n\u001b[0;32m   (...)\u001b[0m\n\u001b[1;32m     70\u001b[0m \u001b[39m    :rtype: requests.Response\u001b[39;00m\n\u001b[1;32m     71\u001b[0m \u001b[39m    \"\"\"\u001b[39;00m\n\u001b[0;32m---> 73\u001b[0m     \u001b[39mreturn\u001b[39;00m request(\u001b[39m\"\u001b[39;49m\u001b[39mget\u001b[39;49m\u001b[39m\"\u001b[39;49m, url, params\u001b[39m=\u001b[39;49mparams, \u001b[39m*\u001b[39;49m\u001b[39m*\u001b[39;49mkwargs)\n",
      "File \u001b[0;32m~/opt/miniconda3/lib/python3.8/site-packages/requests/api.py:59\u001b[0m, in \u001b[0;36mrequest\u001b[0;34m(method, url, **kwargs)\u001b[0m\n\u001b[1;32m     55\u001b[0m \u001b[39m# By using the 'with' statement we are sure the session is closed, thus we\u001b[39;00m\n\u001b[1;32m     56\u001b[0m \u001b[39m# avoid leaving sockets open which can trigger a ResourceWarning in some\u001b[39;00m\n\u001b[1;32m     57\u001b[0m \u001b[39m# cases, and look like a memory leak in others.\u001b[39;00m\n\u001b[1;32m     58\u001b[0m \u001b[39mwith\u001b[39;00m sessions\u001b[39m.\u001b[39mSession() \u001b[39mas\u001b[39;00m session:\n\u001b[0;32m---> 59\u001b[0m     \u001b[39mreturn\u001b[39;00m session\u001b[39m.\u001b[39;49mrequest(method\u001b[39m=\u001b[39;49mmethod, url\u001b[39m=\u001b[39;49murl, \u001b[39m*\u001b[39;49m\u001b[39m*\u001b[39;49mkwargs)\n",
      "File \u001b[0;32m~/opt/miniconda3/lib/python3.8/site-packages/requests/sessions.py:587\u001b[0m, in \u001b[0;36mSession.request\u001b[0;34m(self, method, url, params, data, headers, cookies, files, auth, timeout, allow_redirects, proxies, hooks, stream, verify, cert, json)\u001b[0m\n\u001b[1;32m    582\u001b[0m send_kwargs \u001b[39m=\u001b[39m {\n\u001b[1;32m    583\u001b[0m     \u001b[39m\"\u001b[39m\u001b[39mtimeout\u001b[39m\u001b[39m\"\u001b[39m: timeout,\n\u001b[1;32m    584\u001b[0m     \u001b[39m\"\u001b[39m\u001b[39mallow_redirects\u001b[39m\u001b[39m\"\u001b[39m: allow_redirects,\n\u001b[1;32m    585\u001b[0m }\n\u001b[1;32m    586\u001b[0m send_kwargs\u001b[39m.\u001b[39mupdate(settings)\n\u001b[0;32m--> 587\u001b[0m resp \u001b[39m=\u001b[39m \u001b[39mself\u001b[39;49m\u001b[39m.\u001b[39;49msend(prep, \u001b[39m*\u001b[39;49m\u001b[39m*\u001b[39;49msend_kwargs)\n\u001b[1;32m    589\u001b[0m \u001b[39mreturn\u001b[39;00m resp\n",
      "File \u001b[0;32m~/opt/miniconda3/lib/python3.8/site-packages/requests/sessions.py:701\u001b[0m, in \u001b[0;36mSession.send\u001b[0;34m(self, request, **kwargs)\u001b[0m\n\u001b[1;32m    698\u001b[0m start \u001b[39m=\u001b[39m preferred_clock()\n\u001b[1;32m    700\u001b[0m \u001b[39m# Send the request\u001b[39;00m\n\u001b[0;32m--> 701\u001b[0m r \u001b[39m=\u001b[39m adapter\u001b[39m.\u001b[39;49msend(request, \u001b[39m*\u001b[39;49m\u001b[39m*\u001b[39;49mkwargs)\n\u001b[1;32m    703\u001b[0m \u001b[39m# Total elapsed time of the request (approximately)\u001b[39;00m\n\u001b[1;32m    704\u001b[0m elapsed \u001b[39m=\u001b[39m preferred_clock() \u001b[39m-\u001b[39m start\n",
      "File \u001b[0;32m~/opt/miniconda3/lib/python3.8/site-packages/requests/adapters.py:489\u001b[0m, in \u001b[0;36mHTTPAdapter.send\u001b[0;34m(self, request, stream, timeout, verify, cert, proxies)\u001b[0m\n\u001b[1;32m    487\u001b[0m \u001b[39mtry\u001b[39;00m:\n\u001b[1;32m    488\u001b[0m     \u001b[39mif\u001b[39;00m \u001b[39mnot\u001b[39;00m chunked:\n\u001b[0;32m--> 489\u001b[0m         resp \u001b[39m=\u001b[39m conn\u001b[39m.\u001b[39;49murlopen(\n\u001b[1;32m    490\u001b[0m             method\u001b[39m=\u001b[39;49mrequest\u001b[39m.\u001b[39;49mmethod,\n\u001b[1;32m    491\u001b[0m             url\u001b[39m=\u001b[39;49murl,\n\u001b[1;32m    492\u001b[0m             body\u001b[39m=\u001b[39;49mrequest\u001b[39m.\u001b[39;49mbody,\n\u001b[1;32m    493\u001b[0m             headers\u001b[39m=\u001b[39;49mrequest\u001b[39m.\u001b[39;49mheaders,\n\u001b[1;32m    494\u001b[0m             redirect\u001b[39m=\u001b[39;49m\u001b[39mFalse\u001b[39;49;00m,\n\u001b[1;32m    495\u001b[0m             assert_same_host\u001b[39m=\u001b[39;49m\u001b[39mFalse\u001b[39;49;00m,\n\u001b[1;32m    496\u001b[0m             preload_content\u001b[39m=\u001b[39;49m\u001b[39mFalse\u001b[39;49;00m,\n\u001b[1;32m    497\u001b[0m             decode_content\u001b[39m=\u001b[39;49m\u001b[39mFalse\u001b[39;49;00m,\n\u001b[1;32m    498\u001b[0m             retries\u001b[39m=\u001b[39;49m\u001b[39mself\u001b[39;49m\u001b[39m.\u001b[39;49mmax_retries,\n\u001b[1;32m    499\u001b[0m             timeout\u001b[39m=\u001b[39;49mtimeout,\n\u001b[1;32m    500\u001b[0m         )\n\u001b[1;32m    502\u001b[0m     \u001b[39m# Send the request.\u001b[39;00m\n\u001b[1;32m    503\u001b[0m     \u001b[39melse\u001b[39;00m:\n\u001b[1;32m    504\u001b[0m         \u001b[39mif\u001b[39;00m \u001b[39mhasattr\u001b[39m(conn, \u001b[39m\"\u001b[39m\u001b[39mproxy_pool\u001b[39m\u001b[39m\"\u001b[39m):\n",
      "File \u001b[0;32m~/opt/miniconda3/lib/python3.8/site-packages/urllib3/connectionpool.py:703\u001b[0m, in \u001b[0;36mHTTPConnectionPool.urlopen\u001b[0;34m(self, method, url, body, headers, retries, redirect, assert_same_host, timeout, pool_timeout, release_conn, chunked, body_pos, **response_kw)\u001b[0m\n\u001b[1;32m    700\u001b[0m     \u001b[39mself\u001b[39m\u001b[39m.\u001b[39m_prepare_proxy(conn)\n\u001b[1;32m    702\u001b[0m \u001b[39m# Make the request on the httplib connection object.\u001b[39;00m\n\u001b[0;32m--> 703\u001b[0m httplib_response \u001b[39m=\u001b[39m \u001b[39mself\u001b[39;49m\u001b[39m.\u001b[39;49m_make_request(\n\u001b[1;32m    704\u001b[0m     conn,\n\u001b[1;32m    705\u001b[0m     method,\n\u001b[1;32m    706\u001b[0m     url,\n\u001b[1;32m    707\u001b[0m     timeout\u001b[39m=\u001b[39;49mtimeout_obj,\n\u001b[1;32m    708\u001b[0m     body\u001b[39m=\u001b[39;49mbody,\n\u001b[1;32m    709\u001b[0m     headers\u001b[39m=\u001b[39;49mheaders,\n\u001b[1;32m    710\u001b[0m     chunked\u001b[39m=\u001b[39;49mchunked,\n\u001b[1;32m    711\u001b[0m )\n\u001b[1;32m    713\u001b[0m \u001b[39m# If we're going to release the connection in ``finally:``, then\u001b[39;00m\n\u001b[1;32m    714\u001b[0m \u001b[39m# the response doesn't need to know about the connection. Otherwise\u001b[39;00m\n\u001b[1;32m    715\u001b[0m \u001b[39m# it will also try to release it and we'll have a double-release\u001b[39;00m\n\u001b[1;32m    716\u001b[0m \u001b[39m# mess.\u001b[39;00m\n\u001b[1;32m    717\u001b[0m response_conn \u001b[39m=\u001b[39m conn \u001b[39mif\u001b[39;00m \u001b[39mnot\u001b[39;00m release_conn \u001b[39melse\u001b[39;00m \u001b[39mNone\u001b[39;00m\n",
      "File \u001b[0;32m~/opt/miniconda3/lib/python3.8/site-packages/urllib3/connectionpool.py:449\u001b[0m, in \u001b[0;36mHTTPConnectionPool._make_request\u001b[0;34m(self, conn, method, url, timeout, chunked, **httplib_request_kw)\u001b[0m\n\u001b[1;32m    444\u001b[0m             httplib_response \u001b[39m=\u001b[39m conn\u001b[39m.\u001b[39mgetresponse()\n\u001b[1;32m    445\u001b[0m         \u001b[39mexcept\u001b[39;00m \u001b[39mBaseException\u001b[39;00m \u001b[39mas\u001b[39;00m e:\n\u001b[1;32m    446\u001b[0m             \u001b[39m# Remove the TypeError from the exception chain in\u001b[39;00m\n\u001b[1;32m    447\u001b[0m             \u001b[39m# Python 3 (including for exceptions like SystemExit).\u001b[39;00m\n\u001b[1;32m    448\u001b[0m             \u001b[39m# Otherwise it looks like a bug in the code.\u001b[39;00m\n\u001b[0;32m--> 449\u001b[0m             six\u001b[39m.\u001b[39;49mraise_from(e, \u001b[39mNone\u001b[39;49;00m)\n\u001b[1;32m    450\u001b[0m \u001b[39mexcept\u001b[39;00m (SocketTimeout, BaseSSLError, SocketError) \u001b[39mas\u001b[39;00m e:\n\u001b[1;32m    451\u001b[0m     \u001b[39mself\u001b[39m\u001b[39m.\u001b[39m_raise_timeout(err\u001b[39m=\u001b[39me, url\u001b[39m=\u001b[39murl, timeout_value\u001b[39m=\u001b[39mread_timeout)\n",
      "File \u001b[0;32m<string>:3\u001b[0m, in \u001b[0;36mraise_from\u001b[0;34m(value, from_value)\u001b[0m\n",
      "File \u001b[0;32m~/opt/miniconda3/lib/python3.8/site-packages/urllib3/connectionpool.py:444\u001b[0m, in \u001b[0;36mHTTPConnectionPool._make_request\u001b[0;34m(self, conn, method, url, timeout, chunked, **httplib_request_kw)\u001b[0m\n\u001b[1;32m    441\u001b[0m \u001b[39mexcept\u001b[39;00m \u001b[39mTypeError\u001b[39;00m:\n\u001b[1;32m    442\u001b[0m     \u001b[39m# Python 3\u001b[39;00m\n\u001b[1;32m    443\u001b[0m     \u001b[39mtry\u001b[39;00m:\n\u001b[0;32m--> 444\u001b[0m         httplib_response \u001b[39m=\u001b[39m conn\u001b[39m.\u001b[39;49mgetresponse()\n\u001b[1;32m    445\u001b[0m     \u001b[39mexcept\u001b[39;00m \u001b[39mBaseException\u001b[39;00m \u001b[39mas\u001b[39;00m e:\n\u001b[1;32m    446\u001b[0m         \u001b[39m# Remove the TypeError from the exception chain in\u001b[39;00m\n\u001b[1;32m    447\u001b[0m         \u001b[39m# Python 3 (including for exceptions like SystemExit).\u001b[39;00m\n\u001b[1;32m    448\u001b[0m         \u001b[39m# Otherwise it looks like a bug in the code.\u001b[39;00m\n\u001b[1;32m    449\u001b[0m         six\u001b[39m.\u001b[39mraise_from(e, \u001b[39mNone\u001b[39;00m)\n",
      "File \u001b[0;32m~/opt/miniconda3/lib/python3.8/http/client.py:1348\u001b[0m, in \u001b[0;36mHTTPConnection.getresponse\u001b[0;34m(self)\u001b[0m\n\u001b[1;32m   1346\u001b[0m \u001b[39mtry\u001b[39;00m:\n\u001b[1;32m   1347\u001b[0m     \u001b[39mtry\u001b[39;00m:\n\u001b[0;32m-> 1348\u001b[0m         response\u001b[39m.\u001b[39;49mbegin()\n\u001b[1;32m   1349\u001b[0m     \u001b[39mexcept\u001b[39;00m \u001b[39mConnectionError\u001b[39;00m:\n\u001b[1;32m   1350\u001b[0m         \u001b[39mself\u001b[39m\u001b[39m.\u001b[39mclose()\n",
      "File \u001b[0;32m~/opt/miniconda3/lib/python3.8/http/client.py:316\u001b[0m, in \u001b[0;36mHTTPResponse.begin\u001b[0;34m(self)\u001b[0m\n\u001b[1;32m    314\u001b[0m \u001b[39m# read until we get a non-100 response\u001b[39;00m\n\u001b[1;32m    315\u001b[0m \u001b[39mwhile\u001b[39;00m \u001b[39mTrue\u001b[39;00m:\n\u001b[0;32m--> 316\u001b[0m     version, status, reason \u001b[39m=\u001b[39m \u001b[39mself\u001b[39;49m\u001b[39m.\u001b[39;49m_read_status()\n\u001b[1;32m    317\u001b[0m     \u001b[39mif\u001b[39;00m status \u001b[39m!=\u001b[39m CONTINUE:\n\u001b[1;32m    318\u001b[0m         \u001b[39mbreak\u001b[39;00m\n",
      "File \u001b[0;32m~/opt/miniconda3/lib/python3.8/http/client.py:277\u001b[0m, in \u001b[0;36mHTTPResponse._read_status\u001b[0;34m(self)\u001b[0m\n\u001b[1;32m    276\u001b[0m \u001b[39mdef\u001b[39;00m \u001b[39m_read_status\u001b[39m(\u001b[39mself\u001b[39m):\n\u001b[0;32m--> 277\u001b[0m     line \u001b[39m=\u001b[39m \u001b[39mstr\u001b[39m(\u001b[39mself\u001b[39;49m\u001b[39m.\u001b[39;49mfp\u001b[39m.\u001b[39;49mreadline(_MAXLINE \u001b[39m+\u001b[39;49m \u001b[39m1\u001b[39;49m), \u001b[39m\"\u001b[39m\u001b[39miso-8859-1\u001b[39m\u001b[39m\"\u001b[39m)\n\u001b[1;32m    278\u001b[0m     \u001b[39mif\u001b[39;00m \u001b[39mlen\u001b[39m(line) \u001b[39m>\u001b[39m _MAXLINE:\n\u001b[1;32m    279\u001b[0m         \u001b[39mraise\u001b[39;00m LineTooLong(\u001b[39m\"\u001b[39m\u001b[39mstatus line\u001b[39m\u001b[39m\"\u001b[39m)\n",
      "File \u001b[0;32m~/opt/miniconda3/lib/python3.8/socket.py:669\u001b[0m, in \u001b[0;36mSocketIO.readinto\u001b[0;34m(self, b)\u001b[0m\n\u001b[1;32m    667\u001b[0m \u001b[39mwhile\u001b[39;00m \u001b[39mTrue\u001b[39;00m:\n\u001b[1;32m    668\u001b[0m     \u001b[39mtry\u001b[39;00m:\n\u001b[0;32m--> 669\u001b[0m         \u001b[39mreturn\u001b[39;00m \u001b[39mself\u001b[39;49m\u001b[39m.\u001b[39;49m_sock\u001b[39m.\u001b[39;49mrecv_into(b)\n\u001b[1;32m    670\u001b[0m     \u001b[39mexcept\u001b[39;00m timeout:\n\u001b[1;32m    671\u001b[0m         \u001b[39mself\u001b[39m\u001b[39m.\u001b[39m_timeout_occurred \u001b[39m=\u001b[39m \u001b[39mTrue\u001b[39;00m\n",
      "File \u001b[0;32m~/opt/miniconda3/lib/python3.8/ssl.py:1241\u001b[0m, in \u001b[0;36mSSLSocket.recv_into\u001b[0;34m(self, buffer, nbytes, flags)\u001b[0m\n\u001b[1;32m   1237\u001b[0m     \u001b[39mif\u001b[39;00m flags \u001b[39m!=\u001b[39m \u001b[39m0\u001b[39m:\n\u001b[1;32m   1238\u001b[0m         \u001b[39mraise\u001b[39;00m \u001b[39mValueError\u001b[39;00m(\n\u001b[1;32m   1239\u001b[0m           \u001b[39m\"\u001b[39m\u001b[39mnon-zero flags not allowed in calls to recv_into() on \u001b[39m\u001b[39m%s\u001b[39;00m\u001b[39m\"\u001b[39m \u001b[39m%\u001b[39m\n\u001b[1;32m   1240\u001b[0m           \u001b[39mself\u001b[39m\u001b[39m.\u001b[39m\u001b[39m__class__\u001b[39m)\n\u001b[0;32m-> 1241\u001b[0m     \u001b[39mreturn\u001b[39;00m \u001b[39mself\u001b[39;49m\u001b[39m.\u001b[39;49mread(nbytes, buffer)\n\u001b[1;32m   1242\u001b[0m \u001b[39melse\u001b[39;00m:\n\u001b[1;32m   1243\u001b[0m     \u001b[39mreturn\u001b[39;00m \u001b[39msuper\u001b[39m()\u001b[39m.\u001b[39mrecv_into(buffer, nbytes, flags)\n",
      "File \u001b[0;32m~/opt/miniconda3/lib/python3.8/ssl.py:1099\u001b[0m, in \u001b[0;36mSSLSocket.read\u001b[0;34m(self, len, buffer)\u001b[0m\n\u001b[1;32m   1097\u001b[0m \u001b[39mtry\u001b[39;00m:\n\u001b[1;32m   1098\u001b[0m     \u001b[39mif\u001b[39;00m buffer \u001b[39mis\u001b[39;00m \u001b[39mnot\u001b[39;00m \u001b[39mNone\u001b[39;00m:\n\u001b[0;32m-> 1099\u001b[0m         \u001b[39mreturn\u001b[39;00m \u001b[39mself\u001b[39;49m\u001b[39m.\u001b[39;49m_sslobj\u001b[39m.\u001b[39;49mread(\u001b[39mlen\u001b[39;49m, buffer)\n\u001b[1;32m   1100\u001b[0m     \u001b[39melse\u001b[39;00m:\n\u001b[1;32m   1101\u001b[0m         \u001b[39mreturn\u001b[39;00m \u001b[39mself\u001b[39m\u001b[39m.\u001b[39m_sslobj\u001b[39m.\u001b[39mread(\u001b[39mlen\u001b[39m)\n",
      "\u001b[0;31mKeyboardInterrupt\u001b[0m: "
     ]
    }
   ],
   "source": [
    "for loc in orb_solo:\n",
    "  #print(loc)\n",
    "  getEventVidURL(pbp_data, loc)"
   ]
  },
  {
   "cell_type": "code",
   "execution_count": 21,
   "metadata": {},
   "outputs": [],
   "source": [
    "good_example_locs = [15098, 5736, 38342, 93464, 152107, 170134, 203556, 206561, 235851, 236411, 253552, 315144, 317232]"
   ]
  },
  {
   "cell_type": "code",
   "execution_count": 39,
   "metadata": {},
   "outputs": [
    {
     "name": "stdout",
     "output_type": "stream",
     "text": [
      "Saved NBA_VID/FT_REB_0 - 0022200037_100.mp4\n",
      "15098\n",
      "Saved NBA_VID/FT_REB_1 - 0022200333_238.mp4\n",
      "5736\n",
      "Saved NBA_VID/FT_REB_2 - 0022200388_639.mp4\n",
      "38342\n",
      "Saved NBA_VID/FT_REB_3 - 0022200669_322.mp4\n",
      "55577\n",
      "Saved NBA_VID/FT_REB_4 - 0022200542_655.mp4\n",
      "93464\n",
      "Saved NBA_VID/FT_REB_5 - 0022200312_410.mp4\n",
      "152107\n",
      "Saved NBA_VID/FT_REB_6 - 0022200516_617.mp4\n",
      "170134\n",
      "Saved NBA_VID/FT_REB_7 - 0022200464_15.mp4\n",
      "198980\n",
      "Saved NBA_VID/FT_REB_8 - 0022200116_568.mp4\n",
      "203556\n",
      "Saved NBA_VID/FT_REB_9 - 0022200241_110.mp4\n",
      "206561\n",
      "Saved NBA_VID/FT_REB_10 - 0022200512_617.mp4\n",
      "235851\n",
      "Saved NBA_VID/FT_REB_11 - 0022200552_701.mp4\n",
      "236411\n",
      "Saved NBA_VID/FT_REB_12 - 0022200663_391.mp4\n",
      "253552\n",
      "Saved NBA_VID/FT_REB_13 - 0022200303_122.mp4\n",
      "315144\n",
      "Saved NBA_VID/FT_REB_14 - 0022200510_561.mp4\n",
      "317232\n"
     ]
    }
   ],
   "source": [
    "#urls = []\n",
    "for i, loc in enumerate(good_example_locs):\n",
    "\n",
    "  filename = f'NBA_VID/FT_REB_{i} - {pbp_data.iloc[loc][\"GAME_ID\"]}_{pbp_data.iloc[loc][\"EVENTNUM\"]}.mp4'\n",
    "  save_NBA_vid(pbp_data, loc, filename)\n",
    "  #urls.append(getEventVidURL(pbp_data, loc))\n",
    "  print(loc)"
   ]
  },
  {
   "cell_type": "code",
   "execution_count": 23,
   "metadata": {},
   "outputs": [
    {
     "data": {
      "text/plain": [
       "['https://videos.nba.com/nba/pbp/media/2022/10/23/0022200037/100/cd5091ec-fc57-16f6-ec22-94717a8b6b55_1280x720.mp4',\n",
       " 'https://videos.nba.com/nba/pbp/media/2022/12/02/0022200333/238/de3e9dae-087b-0352-7453-b6f8713f7762_1280x720.mp4',\n",
       " 'https://videos.nba.com/nba/pbp/media/2022/12/10/0022200388/639/d6b37dbd-3677-d128-51a1-61441b43a49b_1280x720.mp4',\n",
       " 'https://videos.nba.com/nba/pbp/media/2023/01/18/0022200669/322/8db5ef85-52d9-8c46-84aa-681a92dc4166_1280x720.mp4',\n",
       " 'https://videos.nba.com/nba/pbp/media/2022/12/31/0022200542/655/0dcc8d9d-ed28-e9b7-5d0b-abeacc476d2a_1280x720.mp4',\n",
       " 'https://videos.nba.com/nba/pbp/media/2022/11/30/0022200312/410/d7a3d112-918e-ed96-a4d8-17370ff29360_1280x720.mp4',\n",
       " 'https://videos.nba.com/nba/pbp/media/2022/12/28/0022200516/617/c9e72df0-38d9-c22f-6abd-9e3a0155149e_1280x720.mp4',\n",
       " 'https://videos.nba.com/nba/pbp/media/2022/12/20/0022200464/15/efa86340-a2c2-08b3-fb83-8cae20c07f8b_1280x720.mp4',\n",
       " 'https://videos.nba.com/nba/pbp/media/2022/11/02/0022200116/568/e5f53c09-bc2b-382d-d25e-0d6ea0a0322d_1280x720.mp4',\n",
       " 'https://videos.nba.com/nba/pbp/media/2022/11/20/0022200241/110/2c9e1021-e742-7f76-4016-2c103b15af3b_1280x720.mp4',\n",
       " 'https://videos.nba.com/nba/pbp/media/2022/12/27/0022200512/617/cc44b2c6-2169-3208-a45e-84f46fbc487e_1280x720.mp4',\n",
       " 'https://videos.nba.com/nba/pbp/media/2023/01/02/0022200552/701/bc9029d5-8185-8955-dc8e-b594d2b7c5b1_1280x720.mp4',\n",
       " 'https://videos.nba.com/nba/pbp/media/2023/01/16/0022200663/391/8de4e58a-77cf-5037-32f5-d2b3ab994499_1280x720.mp4',\n",
       " 'https://videos.nba.com/nba/pbp/media/2022/11/28/0022200303/122/8030e3c1-f027-d375-ab3f-b20e20323a9e_1280x720.mp4',\n",
       " 'https://videos.nba.com/nba/pbp/media/2022/12/27/0022200510/561/c9e77f02-0b37-3996-4ac3-f8e859a789cf_1280x720.mp4']"
      ]
     },
     "execution_count": 23,
     "metadata": {},
     "output_type": "execute_result"
    }
   ],
   "source": [
    "urls"
   ]
  },
  {
   "attachments": {},
   "cell_type": "markdown",
   "metadata": {},
   "source": [
    "### Fixing Game Data\n",
    "The original function for getting game data accidentially captured every game twice. There should be 1,230 total games in an NBA season. This removes the duplicate games from existing saved data, instead of downloading it again."
   ]
  },
  {
   "cell_type": "code",
   "execution_count": 3,
   "metadata": {},
   "outputs": [
    {
     "data": {
      "text/plain": [
       "1230"
      ]
     },
     "execution_count": 3,
     "metadata": {},
     "output_type": "execute_result"
    }
   ],
   "source": [
    "#Check that there are 1,230 unique games in dataset\n",
    "pbp_data['GAME_ID'].unique().size"
   ]
  },
  {
   "cell_type": "code",
   "execution_count": 9,
   "metadata": {},
   "outputs": [],
   "source": [
    "\n",
    "pbp_data = pbp_data.drop_duplicates()\n"
   ]
  },
  {
   "cell_type": "code",
   "execution_count": 10,
   "metadata": {},
   "outputs": [],
   "source": [
    "pbp_data.to_csv('NBA_PBP_21_22.csv', index=False)"
   ]
  },
  {
   "cell_type": "code",
   "execution_count": null,
   "metadata": {},
   "outputs": [],
   "source": []
  }
 ],
 "metadata": {
  "kernelspec": {
   "display_name": "base",
   "language": "python",
   "name": "python3"
  },
  "language_info": {
   "codemirror_mode": {
    "name": "ipython",
    "version": 3
   },
   "file_extension": ".py",
   "mimetype": "text/x-python",
   "name": "python",
   "nbconvert_exporter": "python",
   "pygments_lexer": "ipython3",
   "version": "3.8.16"
  },
  "orig_nbformat": 4,
  "vscode": {
   "interpreter": {
    "hash": "43092ca24a718305f969bc83398e731fec37f4c68f138e85e23999d168073246"
   }
  }
 },
 "nbformat": 4,
 "nbformat_minor": 2
}
